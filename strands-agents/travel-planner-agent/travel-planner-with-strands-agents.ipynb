{
 "cells": [
  {
   "cell_type": "markdown",
   "id": "8ab9a6cf-bdfd-4204-9d60-21bf65cc238c",
   "metadata": {
    "pycharm": {
     "name": "#%% md\n"
    }
   },
   "source": [
    "# Building a Travel Planner Agent with Amazon Bedrock and StrandsAgents\n",
    "\n",
    "## Overview\n",
    "\n",
    "This notebook demonstrates how to build a travel planning AI agent using **StrandsAgents** - an AWS open-source SDK for building AI agents with just a few lines of code. Strands Agents is an open source SDK that takes a model-driven approach to building and running AI agents in just a few lines of code. Strands scales from simple to complex agent use cases, and from local development to deployment in production.\n",
    "\n",
    "StrandsAgents provides a simple, code-first approach to building agents that can:\n",
    "- Use Amazon Bedrock models (default: Claude 3.7 Sonnet)\n",
    "- Integrate with thousands of tools via StrandsAgents\n",
    "- Execute complex multi-step tasks autonomously\n",
    "\n",
    "## Agent Details\n",
    "\n",
    "<div style=\"float: left; margin-right: 20px;\">\n",
    "    \n",
    "|Feature                    |Description                                                            |\n",
    "|---------------------------|-----------------------------------------------------------------------|\n",
    "|**Native tools used**      |`current_time`, `calculator`                                           |\n",
    "|**Custom tools created**   |`search_destination`, `search_flights`, `search_hotels`,               |\n",
    "|                           |`search_activities`, `search_restaurants`, `get_weather_forecast`      |\n",
    "|**Agent Structure**        |Multi-agent architecture with orchestrator and specialized agents      |\n",
    "|**Model Provider**         |Amazon Bedrock (Claude 3.7 Sonnet)                                     |\n",
    "|**External APIs**          |Google Search (via SerpApi) for real-time travel data                  |\n",
    "\n",
    "</div>\n",
    "<div style=\"clear: both;\"></div>\n",
    "\n",
    "## Agent Workflow Diagram\n",
    "\n",
    "<div style=\"text-align:left\">\n",
    "    <img src=\"images/architecture.png\" width=\"100%\" />\n",
    "</div>"
   ]
  },
  {
   "cell_type": "markdown",
   "id": "95d517df-575e-4e95-a5d4-2dac4abd0fe4",
   "metadata": {},
   "source": [
    "### Architecture Overview\n",
    "\n",
    "The travel planning agent uses a **hierarchical multi-agent architecture**:\n",
    "\n",
    "1. **Orchestrator Agent**: The main coordinator that receives user queries and delegates to specialized agents or tools\n",
    "2. **Specialized Agents**: \n",
    "   - Budget Planning Agent: Handles financial analysis and cost optimization\n",
    "   - Itinerary Creation Agent: Designs day-by-day travel plans\n",
    "3. **Custom Travel Tools**: Six specialized tools for searching travel information via SerpApi\n",
    "4. **Native Tools**: Built-in StrandsAgents tools for calculations, time, and HTTP requests\n",
    "5. **External APIs**: Integration with Google Search for real-time travel data\n",
    "\n",
    "This architecture follows the **\"Agents as Tools\"** pattern, where specialized agents are wrapped as callable functions that can be invoked by the orchestrator based on the user's needs.\n",
    "\n",
    "## What You'll Learn\n",
    "\n",
    "By the end of this notebook, you'll be able to:\n",
    "1. Set up [StrandsAgents](https://strandsagents.com/latest/) with [Amazon Bedrock](https://aws.amazon.com/bedrock/)\n",
    "2. Create custom tools for travel planning\n",
    "3. Integrate web search capabilities using [google-search-results](https://serpapi.com/) (SerpApi)\n",
    "4. Build a multi-agent system for comprehensive trip planning"
   ]
  },
  {
   "cell_type": "markdown",
   "id": "62b0823b-d4e0-495d-a75c-50cbada8e0b0",
   "metadata": {
    "pycharm": {
     "name": "#%% md\n"
    }
   },
   "source": [
    "## 1. Setup and prerequisites\n",
    "\n",
    "### Prerequisites Overview\n",
    "Before we begin building our travel agent, ensure you have the following setup:\n",
    "\n",
    "* **Python 3.10+**: Required for StrandsAgents compatibility\n",
    "* **AWS Account**: With appropriate permissions for Bedrock access\n",
    "* **Anthropic Claude 3.7**: Enabled on Amazon Bedrock ([setup guide](https://docs.aws.amazon.com/bedrock/latest/userguide/model-access.html))\n",
    "* **SerpApi API Key**: For real-time travel data ([get your key](https://serpapi.com/))"
   ]
  },
  {
   "cell_type": "markdown",
   "id": "85899e7c",
   "metadata": {},
   "source": [
    "### SerpApi Setup Instructions\n",
    "SerpApi provides real-time access to Google search results, which is crucial for getting current travel information:\n",
    "\n",
    "1. Visit https://serpapi.com/dashboard\n",
    "2. Sign in to your Serp API account or create one if you don't have it\n",
    "3. In your dashboard, generate an API key\n",
    "4. Keep this key secure - you'll need it for the environment variables"
   ]
  },
  {
   "cell_type": "markdown",
   "id": "c56c5449-bcfa-4a32-a2f5-97bee75fbe09",
   "metadata": {},
   "source": [
    "### Important: Enable Model Access in Bedrock\n",
    "\n",
    "**Critical Step**: Before running the agent, you must enable Claude 3.7 Sonnet in your AWS Bedrock console:\n",
    "\n",
    "1. Sign in to the AWS Management Console\n",
    "2. Navigate to Amazon Bedrock service\n",
    "3. Go to \"Model access\" in the left sidebar\n",
    "4. Request access to \"Claude 3.7 Sonnet\"\n",
    "5. Wait for approval (usually immediate for most accounts)\n",
    "\n",
    "Without this step, your agent will fail to initialize."
   ]
  },
  {
   "cell_type": "markdown",
   "id": "21ca133d",
   "metadata": {},
   "source": [
    "### Installing Required Dependencies\n",
    "\n",
    "Let's install all the necessary packages for our comprehensive travel planning agent:"
   ]
  },
  {
   "cell_type": "code",
   "execution_count": null,
   "id": "cd150109-40be-452d-9fae-c0653205ccae",
   "metadata": {
    "pycharm": {
     "name": "#%%\n"
    }
   },
   "outputs": [],
   "source": [
    "# installing pre-requisites\n",
    "!pip install -r requirements.txt --quiet"
   ]
  },
  {
   "cell_type": "markdown",
   "id": "80ef5b1f-7d01-42e9-a558-891792b1c5b7",
   "metadata": {
    "pycharm": {
     "name": "#%% md\n"
    }
   },
   "source": [
    "### Importing dependency packages\n",
    "\n",
    "Now let's import the dependency packages"
   ]
  },
  {
   "cell_type": "code",
   "execution_count": null,
   "id": "7092f7af-01e7-469d-96d0-3c80987c5183",
   "metadata": {
    "pycharm": {
     "name": "#%%\n"
    }
   },
   "outputs": [],
   "source": [
    "import os\n",
    "import json\n",
    "import random\n",
    "import logging\n",
    "from datetime import datetime, timedelta\n",
    "from typing import Dict, List, Optional\n",
    "\n",
    "# SerpApi for real-time search results\n",
    "from serpapi import GoogleSearch\n",
    "\n",
    "# StrandsAgents core components\n",
    "from strands import Agent, tool\n",
    "from strands.models import BedrockModel\n",
    "from strands_tools import current_time, calculator\n",
    "\n",
    "# Enable debug logging to see the agent's thought process and tool execution\n",
    "# This is invaluable for understanding how your agent makes decisions\n",
    "logging.getLogger(\"strands\").setLevel(logging.DEBUG)\n",
    "logging.basicConfig(\n",
    "    format=\"%(levelname)s | %(name)s | %(message)s\",\n",
    "    handlers=[logging.StreamHandler()]\n",
    ")"
   ]
  },
  {
   "cell_type": "markdown",
   "id": "30a6a179",
   "metadata": {},
   "source": [
    "### Environment Variable Configuration\n",
    "\n",
    "Security best practice: Always use environment variables for API keys rather than hardcoding them:"
   ]
  },
  {
   "cell_type": "code",
   "execution_count": null,
   "id": "831539d4-38b4-4812-9e3b-5a6523ade323",
   "metadata": {},
   "outputs": [],
   "source": [
    "# Set up environment variables for API keys\n",
    "# This is more secure than hardcoding in the notebook\n",
    "SERPAPI_KEY = os.getenv(\"SERPAPI_KEY\", None)\n",
    "if not SERPAPI_KEY:\n",
    "    print(\"WARNING: SERPAPI_KEY not found in environment variables\")\n",
    "    print(\"Please set it using: os.environ['SERPAPI_KEY'] = 'your_api_key'\")\n",
    "    # For testing, you can set it here temporarily:\n",
    "    # SERPAPI_KEY = \"your_actual_api_key_here\""
   ]
  },
  {
   "cell_type": "markdown",
   "id": "676d7bf0-3698-455f-88d2-d551df765e2b",
   "metadata": {},
   "source": [
    "#### Defining agent underlying LLM model\n",
    "\n",
    "Next let's define our agent underlying model. Strands Agents natively integrate with Amazon Bedrock models, and provides the ability to configure how the model is called. Below, you can see a simple initialization of a `BedrockModel` provider, with some of the optional configurations commented out. You can learn more about configuration options, and default values, at [Strands Agents Bedrock Model Provider documentation](https://strandsagents.com/0.1.x/user-guide/concepts/model-providers/amazon-bedrock/). For our example, we will use the `Anthropic Claude 3.7 Sonnet` model from Bedrock."
   ]
  },
  {
   "cell_type": "code",
   "execution_count": null,
   "id": "862f3bee-ca00-4ad8-a115-65fe83394368",
   "metadata": {},
   "outputs": [
    {
     "name": "stderr",
     "output_type": "stream",
     "text": [
      "DEBUG | strands.models.bedrock | config=<{'model_id': 'us.anthropic.claude-3-7-sonnet-20250219-v1:0'}> | initializing\n"
     ]
    }
   ],
   "source": [
    "model = BedrockModel(\n",
    "    model_id=\"us.anthropic.claude-3-7-sonnet-20250219-v1:0\",\n",
    "    # region_name=\"us-east-1\",\n",
    "    # boto_client_config=Config(\n",
    "    #    read_timeout=900,\n",
    "    #    connect_timeout=900,\n",
    "    #    retries=dict(max_attempts=3, mode=\"adaptive\"),\n",
    "    # ),\n",
    "    # temperature=0.9,\n",
    "    # max_tokens=2048,\n",
    ")"
   ]
  },
  {
   "cell_type": "markdown",
   "id": "146434cf-e434-4bce-b0e5-faf9b1b47c03",
   "metadata": {},
   "source": [
    "## 2. Creating the Travel Search Tools\n",
    "\n",
    "This section creates the core tools that give our agent the ability to search for real-time travel information. Each tool is designed to handle a specific aspect of travel planning and returns structured data that the agent can reason about."
   ]
  },
  {
   "cell_type": "markdown",
   "id": "02412b05",
   "metadata": {},
   "source": [
    "### Destination Information Tool\n",
    "\n",
    "This tool provides general travel information about any destination, giving our agent context about places to visit:"
   ]
  },
  {
   "cell_type": "code",
   "execution_count": null,
   "id": "188f2987-0828-4e18-a0bd-df9a6b14d0e6",
   "metadata": {},
   "outputs": [],
   "source": [
    "@tool\n",
    "def search_destination(destination: str) -> Dict:\n",
    "    \"\"\"\n",
    "    Get general travel information about a destination.\n",
    "    \n",
    "    Args:\n",
    "        destination: The travel destination to search for\n",
    "        \n",
    "    Returns:\n",
    "        Dictionary containing travel guide information\n",
    "    \"\"\"\n",
    "    params = {\n",
    "        \"q\": f\"{destination} travel guide tourism attractions\",\n",
    "        \"api_key\": SERPAPI_KEY,\n",
    "        \"num\": 10\n",
    "    }\n",
    "    search = GoogleSearch(params)\n",
    "    results = search.get_dict()\n",
    "    \n",
    "    return {\n",
    "        \"destination\": destination,\n",
    "        \"search_results\": results.get(\"organic_results\", [])[:5]\n",
    "    }"
   ]
  },
  {
   "cell_type": "markdown",
   "id": "68e1df8a",
   "metadata": {},
   "source": [
    "### Flight Search Tool\n",
    "\n",
    "This tool enables the agent to find current flight information and pricing:"
   ]
  },
  {
   "cell_type": "code",
   "execution_count": null,
   "id": "9a8134b5-8436-4d03-a74e-7517476986cb",
   "metadata": {},
   "outputs": [],
   "source": [
    "@tool\n",
    "def search_flights(departure: str, destination: str, \n",
    "                  outbound_date: str, return_date: Optional[str] = None) -> Dict:\n",
    "    \"\"\"\n",
    "    Search for flights between two locations.\n",
    "    \n",
    "    Args:\n",
    "        departure: Departure airport code (e.g., 'LAX')\n",
    "        destination: Destination airport code (e.g., 'CDG')\n",
    "        outbound_date: Departure date in YYYY-MM-DD format\n",
    "        return_date: Return date in YYYY-MM-DD format (optional)\n",
    "        \n",
    "    Returns:\n",
    "        Dictionary containing flight options\n",
    "    \"\"\"\n",
    "    params = {\n",
    "        \"engine\": \"google_flights\",\n",
    "        \"departure_id\": departure,\n",
    "        \"arrival_id\": destination,\n",
    "        \"outbound_date\": outbound_date,\n",
    "        \"currency\": \"USD\",\n",
    "        \"api_key\": SERPAPI_KEY\n",
    "    }\n",
    "    \n",
    "    if return_date:\n",
    "        params[\"return_date\"] = return_date\n",
    "        params[\"type\"] = \"1\"  # Round trip\n",
    "    else:\n",
    "        params[\"type\"] = \"2\"  # One way\n",
    "    \n",
    "    search = GoogleSearch(params)\n",
    "    return search.get_dict()"
   ]
  },
  {
   "cell_type": "markdown",
   "id": "28572c7f",
   "metadata": {},
   "source": [
    "### Hotel Search Tool\n",
    "\n",
    "This tool finds accommodation options with current availability and pricing:"
   ]
  },
  {
   "cell_type": "code",
   "execution_count": null,
   "id": "0129f6dc-e1da-4228-b13f-17f6fab7798d",
   "metadata": {},
   "outputs": [],
   "source": [
    "@tool\n",
    "def search_hotels(destination: str, check_in: str, check_out: str, \n",
    "                 adults: int = 2) -> Dict:\n",
    "    \"\"\"\n",
    "    Search for hotels in a destination.\n",
    "    \n",
    "    Args:\n",
    "        destination: City or location name\n",
    "        check_in: Check-in date in YYYY-MM-DD format\n",
    "        check_out: Check-out date in YYYY-MM-DD format\n",
    "        adults: Number of adults\n",
    "        \n",
    "    Returns:\n",
    "        Dictionary containing hotel options\n",
    "    \"\"\"\n",
    "    params = {\n",
    "        \"engine\": \"google_hotels\",\n",
    "        \"q\": destination,\n",
    "        \"check_in_date\": check_in,\n",
    "        \"check_out_date\": check_out,\n",
    "        \"adults\": adults,\n",
    "        \"currency\": \"USD\",\n",
    "        \"api_key\": SERPAPI_KEY\n",
    "    }\n",
    "    search = GoogleSearch(params)\n",
    "    return search.get_dict()"
   ]
  },
  {
   "cell_type": "markdown",
   "id": "8ca9b87b",
   "metadata": {},
   "source": [
    "### Activities and Attractions Tool\n",
    "\n",
    "This tool discovers things to do and see at the destination:"
   ]
  },
  {
   "cell_type": "code",
   "execution_count": null,
   "id": "c1aad93f-1cc4-4ced-9b33-86b5894742ba",
   "metadata": {},
   "outputs": [],
   "source": [
    "@tool\n",
    "def search_activities(destination: str, interests: Optional[List[str]] = None) -> Dict:\n",
    "    \"\"\"\n",
    "    Search for activities and attractions in a destination.\n",
    "    \n",
    "    Args:\n",
    "        destination: City or location name\n",
    "        interests: List of interests (e.g., ['museums', 'outdoor', 'food'])\n",
    "        \n",
    "    Returns:\n",
    "        Dictionary containing activity suggestions\n",
    "    \"\"\"\n",
    "    query = f\"things to do in {destination}\"\n",
    "    if interests:\n",
    "        query += f\" {' '.join(interests)}\"\n",
    "    \n",
    "    params = {\n",
    "        \"q\": query,\n",
    "        \"api_key\": SERPAPI_KEY,\n",
    "        \"num\": 20\n",
    "    }\n",
    "    search = GoogleSearch(params)\n",
    "    return search.get_dict()"
   ]
  },
  {
   "cell_type": "markdown",
   "id": "07ac6be3",
   "metadata": {},
   "source": [
    "### Restaurant Search Tool\n",
    "\n",
    "This tool finds dining options with current information and reviews:"
   ]
  },
  {
   "cell_type": "code",
   "execution_count": null,
   "id": "f8b9d31f-bd0d-4619-b916-63b6edf105bf",
   "metadata": {},
   "outputs": [],
   "source": [
    "@tool\n",
    "def search_restaurants(destination: str, cuisine_type: Optional[str] = None,\n",
    "                      price_range: Optional[str] = None) -> Dict:\n",
    "    \"\"\"\n",
    "    Search for restaurants in a destination.\n",
    "    \n",
    "    Args:\n",
    "        destination: City or location name\n",
    "        cuisine_type: Type of cuisine (e.g., 'italian', 'local')\n",
    "        price_range: Price range ('$', '$$', '$$$', '$$$$')\n",
    "        \n",
    "    Returns:\n",
    "        Dictionary containing restaurant recommendations\n",
    "    \"\"\"\n",
    "    query = f\"best restaurants in {destination}\"\n",
    "    if cuisine_type:\n",
    "        query += f\" {cuisine_type}\"\n",
    "    if price_range:\n",
    "        query += f\" {price_range}\"\n",
    "    \n",
    "    params = {\n",
    "        \"engine\": \"google_maps\",\n",
    "        \"q\": query,\n",
    "        \"type\": \"search\",\n",
    "        \"api_key\": SERPAPI_KEY\n",
    "    }\n",
    "    search = GoogleSearch(params)\n",
    "    return search.get_dict()"
   ]
  },
  {
   "cell_type": "markdown",
   "id": "fe147785",
   "metadata": {},
   "source": [
    "### Weather Forecast Tool\n",
    "\n",
    "This tool provides weather information to help with trip planning:"
   ]
  },
  {
   "cell_type": "code",
   "execution_count": null,
   "id": "49ae1942-5bda-48b8-af0e-98f59a7d8887",
   "metadata": {},
   "outputs": [],
   "source": [
    "@tool\n",
    "def get_weather_forecast(destination: str, date: Optional[str] = None) -> Dict:\n",
    "    \"\"\"\n",
    "    Get weather forecast for a destination.\n",
    "    \n",
    "    Args:\n",
    "        destination: City or location name\n",
    "        date: Specific date for forecast (optional)\n",
    "        \n",
    "    Returns:\n",
    "        Dictionary containing weather information\n",
    "    \"\"\"\n",
    "    query = f\"{destination} weather forecast\"\n",
    "    if date:\n",
    "        query += f\" {date}\"\n",
    "    \n",
    "    params = {\n",
    "        \"q\": query,\n",
    "        \"api_key\": SERPAPI_KEY\n",
    "    }\n",
    "    search = GoogleSearch(params)\n",
    "    results = search.get_dict()\n",
    "    \n",
    "    # Check for weather answer box\n",
    "    weather_data = results.get(\"answer_box\", {})\n",
    "    if not weather_data:\n",
    "        weather_data = results.get(\"organic_results\", [])[:3]\n",
    "    \n",
    "    return {\n",
    "        \"destination\": destination,\n",
    "        \"weather\": weather_data\n",
    "    }"
   ]
  },
  {
   "cell_type": "markdown",
   "id": "60f62c82-0150-44d7-b93a-8d4c5aabd238",
   "metadata": {},
   "source": [
    "## 3. Building the Travel Planning Agent"
   ]
  },
  {
   "cell_type": "markdown",
   "id": "e95ef068",
   "metadata": {},
   "source": [
    "### Defining the Agent's System Prompt\n",
    "\n",
    "The system prompt is crucial - it defines the agent's personality, capabilities, and behavior patterns:"
   ]
  },
  {
   "cell_type": "code",
   "execution_count": null,
   "id": "71a3b7ef-6103-45fc-bce6-2703710c1080",
   "metadata": {},
   "outputs": [],
   "source": [
    "# Define the travel agent's system prompt\n",
    "# This prompt establishes the agent's identity, capabilities, and operational guidelines\n",
    "TRAVEL_AGENT_PROMPT = \"\"\"\n",
    "You are an expert travel planning assistant with access to real-time travel data through search tools.\n",
    "\n",
    "IMPORTANT: You MUST use the available search tools to gather information. Do not rely solely on your training data.\n",
    "\n",
    "Your goal is to help users plan amazing trips by:\n",
    "1. ALWAYS using search_destination tool first to get current information about destinations\n",
    "2. Using search_flights for flight information when requested\n",
    "3. Using search_hotels for accommodation options\n",
    "4. Using search_activities for things to do\n",
    "5. Using search_restaurants for dining recommendations\n",
    "6. Using get_weather_forecast for weather information\n",
    "7. Using calculator tool for budget calculations, cost breakdowns, and expense planning\n",
    "8. Using budget_analysis tool to analyze travel costs, compare options, \n",
    "\n",
    "For each query:\n",
    "- Start by searching for relevant information using the tools\n",
    "- Use calculator and budget_analysis tools to help users understand and plan trip costs\n",
    "- Provide data-driven recommendations based on search results\n",
    "- Be transparent when search results are limited or unavailable\n",
    "- Create detailed itineraries with practical information\n",
    "\n",
    "Remember: Your search tools provide real-time data that may be more current than your training data.\n",
    "\"\"\""
   ]
  },
  {
   "cell_type": "markdown",
   "id": "98008f3b-7b37-46e5-a76a-30af60464706",
   "metadata": {},
   "source": [
    "### Creating the Primary Travel Agent\n",
    "\n",
    "Now we instantiate our main travel planning agent with all the tools we've created:"
   ]
  },
  {
   "cell_type": "code",
   "execution_count": null,
   "id": "2277e461-b871-4153-b692-fa4574fc83b2",
   "metadata": {},
   "outputs": [
    {
     "name": "stderr",
     "output_type": "stream",
     "text": [
      "DEBUG | strands.tools.registry | tool_name=<search_destination> | registering function tool\n",
      "DEBUG | strands.tools.registry | tool_name=<search_destination>, tool_type=<function>, is_dynamic=<False> | registering tool\n",
      "DEBUG | strands.tools.registry | tool_name=<search_flights> | registering function tool\n",
      "DEBUG | strands.tools.registry | tool_name=<search_flights>, tool_type=<function>, is_dynamic=<False> | registering tool\n",
      "DEBUG | strands.tools.registry | tool_name=<search_hotels> | registering function tool\n",
      "DEBUG | strands.tools.registry | tool_name=<search_hotels>, tool_type=<function>, is_dynamic=<False> | registering tool\n",
      "DEBUG | strands.tools.registry | tool_name=<search_activities> | registering function tool\n",
      "DEBUG | strands.tools.registry | tool_name=<search_activities>, tool_type=<function>, is_dynamic=<False> | registering tool\n",
      "DEBUG | strands.tools.registry | tool_name=<search_restaurants> | registering function tool\n",
      "DEBUG | strands.tools.registry | tool_name=<search_restaurants>, tool_type=<function>, is_dynamic=<False> | registering tool\n",
      "DEBUG | strands.tools.registry | tool_name=<get_weather_forecast> | registering function tool\n",
      "DEBUG | strands.tools.registry | tool_name=<get_weather_forecast>, tool_type=<function>, is_dynamic=<False> | registering tool\n",
      "DEBUG | strands.tools.registry | tool_name=<calculator>, tool_type=<function>, is_dynamic=<False> | registering tool\n",
      "DEBUG | strands.tools.registry | tool_name=<current_time>, tool_type=<function>, is_dynamic=<False> | registering tool\n",
      "DEBUG | strands.tools.loader | tool_path=</opt/conda/lib/python3.12/site-packages/strands_tools/http_request.py> | loading python tool from path\n",
      "DEBUG | strands.tools.registry | tool_name=<http_request>, tool_type=<python>, is_dynamic=<True> | registering tool\n",
      "DEBUG | strands.tools.registry | tool_name=<http_request>, tool_type=<python> | skipping hot reloading\n",
      "DEBUG | strands.tools.registry | tools_dir=</home/sagemaker-user/samples/01-getting-started/16-trip-planner/tools> | tools directory not found\n",
      "DEBUG | strands.tools.registry | tool_modules=<[]> | discovered\n",
      "DEBUG | strands.tools.registry | tool_count=<0>, success_count=<0> | finished loading tools\n",
      "DEBUG | strands.tools.registry | tools_dir=</home/sagemaker-user/samples/01-getting-started/16-trip-planner/tools> | tools directory not found\n"
     ]
    }
   ],
   "source": [
    "# Create the travel planning agent\n",
    "# This agent serves as the primary interface for travel planning tasks\n",
    "travel_agent = Agent(\n",
    "    model=model,  # The Claude 3.7 Sonnet model we configured earlier\n",
    "    system_prompt=TRAVEL_AGENT_PROMPT,  # Our detailed system prompt\n",
    "    tools=[\n",
    "        # Custom travel search tools we created\n",
    "        search_destination,      # For general destination information\n",
    "        search_flights,         # For flight search and pricing\n",
    "        search_hotels,          # For accommodation options\n",
    "        search_activities,      # For attractions and activities\n",
    "        search_restaurants,     # For dining recommendations\n",
    "        get_weather_forecast,   # For weather information\n",
    "        \n",
    "        # Built-in StrandsAgents tools for additional functionality\n",
    "        calculator,             # For budget calculations and math\n",
    "        current_time           # For date/time awareness\n",
    "    ]\n",
    ")"
   ]
  },
  {
   "cell_type": "code",
   "execution_count": null,
   "id": "21a029e0-900d-4fa7-9761-59da45e94866",
   "metadata": {},
   "outputs": [
    {
     "name": "stderr",
     "output_type": "stream",
     "text": [
      "DEBUG | strands.tools.registry | getting tool configurations\n",
      "DEBUG | strands.tools.registry | tool_name=<search_destination> | loaded tool config\n",
      "DEBUG | strands.tools.registry | tool_name=<search_flights> | loaded tool config\n",
      "DEBUG | strands.tools.registry | tool_name=<search_hotels> | loaded tool config\n",
      "DEBUG | strands.tools.registry | tool_name=<search_activities> | loaded tool config\n",
      "DEBUG | strands.tools.registry | tool_name=<search_restaurants> | loaded tool config\n",
      "DEBUG | strands.tools.registry | tool_name=<get_weather_forecast> | loaded tool config\n",
      "DEBUG | strands.tools.registry | tool_name=<calculator> | loaded tool config\n",
      "DEBUG | strands.tools.registry | tool_name=<current_time> | loaded tool config\n",
      "DEBUG | strands.tools.registry | tool_name=<http_request> | loaded tool config\n",
      "DEBUG | strands.tools.registry | tool_count=<9> | tools configured\n"
     ]
    },
    {
     "name": "stdout",
     "output_type": "stream",
     "text": [
      "✓ Travel agent created with 9 tools\n"
     ]
    }
   ],
   "source": [
    "print(\"✓ Travel agent created with\", len(travel_agent.tool_names), \"tools\")"
   ]
  },
  {
   "cell_type": "markdown",
   "id": "8a94179b",
   "metadata": {},
   "source": [
    "### Testing the Agent with a Simple Query\n",
    "\n",
    "Let's test our agent with a basic calculation to ensure everything is working:"
   ]
  },
  {
   "cell_type": "code",
   "execution_count": null,
   "id": "0360a249-11bc-4a86-8261-3c42a8004fab",
   "metadata": {},
   "outputs": [
    {
     "name": "stderr",
     "output_type": "stream",
     "text": [
      "DEBUG | strands.tools.registry | getting tool configurations\n",
      "DEBUG | strands.tools.registry | tool_name=<search_destination> | loaded tool config\n",
      "DEBUG | strands.tools.registry | tool_name=<search_flights> | loaded tool config\n",
      "DEBUG | strands.tools.registry | tool_name=<search_hotels> | loaded tool config\n",
      "DEBUG | strands.tools.registry | tool_name=<search_activities> | loaded tool config\n",
      "DEBUG | strands.tools.registry | tool_name=<search_restaurants> | loaded tool config\n",
      "DEBUG | strands.tools.registry | tool_name=<get_weather_forecast> | loaded tool config\n",
      "DEBUG | strands.tools.registry | tool_name=<calculator> | loaded tool config\n",
      "DEBUG | strands.tools.registry | tool_name=<current_time> | loaded tool config\n",
      "DEBUG | strands.tools.registry | tool_name=<http_request> | loaded tool config\n",
      "DEBUG | strands.tools.registry | tool_count=<9> | tools configured\n",
      "DEBUG | strands.tools.registry | getting tool configurations\n",
      "DEBUG | strands.tools.registry | tool_name=<search_destination> | loaded tool config\n",
      "DEBUG | strands.tools.registry | tool_name=<search_flights> | loaded tool config\n",
      "DEBUG | strands.tools.registry | tool_name=<search_hotels> | loaded tool config\n",
      "DEBUG | strands.tools.registry | tool_name=<search_activities> | loaded tool config\n",
      "DEBUG | strands.tools.registry | tool_name=<search_restaurants> | loaded tool config\n",
      "DEBUG | strands.tools.registry | tool_name=<get_weather_forecast> | loaded tool config\n",
      "DEBUG | strands.tools.registry | tool_name=<calculator> | loaded tool config\n",
      "DEBUG | strands.tools.registry | tool_name=<current_time> | loaded tool config\n",
      "DEBUG | strands.tools.registry | tool_name=<http_request> | loaded tool config\n",
      "DEBUG | strands.tools.registry | tool_count=<9> | tools configured\n",
      "DEBUG | strands.event_loop.streaming | model=<<strands.models.bedrock.BedrockModel object at 0x7faa0d44fc80>> | streaming messages\n",
      "DEBUG | strands.types.models.model | formatting request\n",
      "DEBUG | strands.types.models.model | invoking model\n",
      "DEBUG | strands.types.models.model | got response from model\n"
     ]
    },
    {
     "name": "stdout",
     "output_type": "stream",
     "text": [
      "I'd be happy to help you calculate your food expenses for a week based on your daily budget.\n",
      "\n",
      "Let me use the calculator tool to figure this out for you:\n",
      "Tool #26: calculator\n"
     ]
    },
    {
     "name": "stderr",
     "output_type": "stream",
     "text": [
      "DEBUG | strands.types.models.model | finished streaming response from model\n",
      "DEBUG | strands.tools.executor | tool_count=<1>, tool_executor=<ThreadPoolExecutorWrapper> | executing tools in parallel\n",
      "DEBUG | strands.tools.executor | tool_count=<1> | submitted tasks to parallel executor\n",
      "DEBUG | strands.handlers.tool_handler | tool=<{'toolUseId': 'tooluse_KYpTPP-wQgq8AA-HfKZSog', 'name': 'calculator', 'input': {'expression': '50 * 7', 'mode': 'evaluate'}}> | invoking\n"
     ]
    },
    {
     "data": {
      "text/html": [
       "<pre style=\"white-space:pre;overflow-x:auto;line-height:normal;font-family:Menlo,'DejaVu Sans Mono',consolas,'Courier New',monospace\"><span style=\"color: #000080; text-decoration-color: #000080\">╭────────────────────────────────────────────── </span><span style=\"color: #000080; text-decoration-color: #000080; font-weight: bold\">Calculation Result</span><span style=\"color: #000080; text-decoration-color: #000080\"> ───────────────────────────────────────────────╮</span>\n",
       "<span style=\"color: #000080; text-decoration-color: #000080\">│</span>                                                                                                                 <span style=\"color: #000080; text-decoration-color: #000080\">│</span>\n",
       "<span style=\"color: #000080; text-decoration-color: #000080\">│</span>  ╭───────────┬─────────────────────╮                                                                            <span style=\"color: #000080; text-decoration-color: #000080\">│</span>\n",
       "<span style=\"color: #000080; text-decoration-color: #000080\">│</span>  │<span style=\"color: #008080; text-decoration-color: #008080\"> Operation </span>│<span style=\"color: #008000; text-decoration-color: #008000\"> Evaluate Expression </span>│                                                                            <span style=\"color: #000080; text-decoration-color: #000080\">│</span>\n",
       "<span style=\"color: #000080; text-decoration-color: #000080\">│</span>  │<span style=\"color: #008080; text-decoration-color: #008080\"> Input     </span>│<span style=\"color: #008000; text-decoration-color: #008000\"> 50 * 7              </span>│                                                                            <span style=\"color: #000080; text-decoration-color: #000080\">│</span>\n",
       "<span style=\"color: #000080; text-decoration-color: #000080\">│</span>  │<span style=\"color: #008080; text-decoration-color: #008080\"> Result    </span>│<span style=\"color: #008000; text-decoration-color: #008000\"> 350                 </span>│                                                                            <span style=\"color: #000080; text-decoration-color: #000080\">│</span>\n",
       "<span style=\"color: #000080; text-decoration-color: #000080\">│</span>  ╰───────────┴─────────────────────╯                                                                            <span style=\"color: #000080; text-decoration-color: #000080\">│</span>\n",
       "<span style=\"color: #000080; text-decoration-color: #000080\">│</span>                                                                                                                 <span style=\"color: #000080; text-decoration-color: #000080\">│</span>\n",
       "<span style=\"color: #000080; text-decoration-color: #000080\">╰─────────────────────────────────────────────────────────────────────────────────────────────────────────────────╯</span>\n",
       "</pre>\n"
      ],
      "text/plain": [
       "\u001b[34m╭─\u001b[0m\u001b[34m─────────────────────────────────────────────\u001b[0m\u001b[34m \u001b[0m\u001b[1;34mCalculation Result\u001b[0m\u001b[34m \u001b[0m\u001b[34m──────────────────────────────────────────────\u001b[0m\u001b[34m─╮\u001b[0m\n",
       "\u001b[34m│\u001b[0m                                                                                                                 \u001b[34m│\u001b[0m\n",
       "\u001b[34m│\u001b[0m  ╭───────────┬─────────────────────╮                                                                            \u001b[34m│\u001b[0m\n",
       "\u001b[34m│\u001b[0m  │\u001b[36m \u001b[0m\u001b[36mOperation\u001b[0m\u001b[36m \u001b[0m│\u001b[32m \u001b[0m\u001b[32mEvaluate Expression\u001b[0m\u001b[32m \u001b[0m│                                                                            \u001b[34m│\u001b[0m\n",
       "\u001b[34m│\u001b[0m  │\u001b[36m \u001b[0m\u001b[36mInput    \u001b[0m\u001b[36m \u001b[0m│\u001b[32m \u001b[0m\u001b[32m50 * 7             \u001b[0m\u001b[32m \u001b[0m│                                                                            \u001b[34m│\u001b[0m\n",
       "\u001b[34m│\u001b[0m  │\u001b[36m \u001b[0m\u001b[36mResult   \u001b[0m\u001b[36m \u001b[0m│\u001b[32m \u001b[0m\u001b[32m350                \u001b[0m\u001b[32m \u001b[0m│                                                                            \u001b[34m│\u001b[0m\n",
       "\u001b[34m│\u001b[0m  ╰───────────┴─────────────────────╯                                                                            \u001b[34m│\u001b[0m\n",
       "\u001b[34m│\u001b[0m                                                                                                                 \u001b[34m│\u001b[0m\n",
       "\u001b[34m╰─────────────────────────────────────────────────────────────────────────────────────────────────────────────────╯\u001b[0m\n"
      ]
     },
     "metadata": {},
     "output_type": "display_data"
    },
    {
     "name": "stderr",
     "output_type": "stream",
     "text": [
      "DEBUG | strands.event_loop.streaming | model=<<strands.models.bedrock.BedrockModel object at 0x7faa0d44fc80>> | streaming messages\n",
      "DEBUG | strands.types.models.model | formatting request\n",
      "DEBUG | strands.types.models.model | invoking model\n",
      "DEBUG | strands.types.models.model | got response from model\n"
     ]
    },
    {
     "name": "stdout",
     "output_type": "stream",
     "text": [
      "If you spend about $50 per day on food, your total food budget for a week (7 days) would be $350.\n",
      "\n",
      "This budget covers all your meals for the entire week. Depending on your destination, this amount might vary in terms of what it can get you. In some locations, $50 per day can cover three full meals in restaurants, while in others it might mean mixing restaurant meals with grocery shopping or street food.\n",
      "\n",
      "Would you like me to provide more specific information about food costs for a particular destination? I can search for restaurant options and typical food costs in specific cities if"
     ]
    },
    {
     "name": "stderr",
     "output_type": "stream",
     "text": [
      "DEBUG | strands.types.models.model | finished streaming response from model\n",
      "DEBUG | strands.agent.conversation_manager.sliding_window_conversation_manager | window_size=<4>, message_count=<40> | skipping context reduction\n"
     ]
    },
    {
     "name": "stdout",
     "output_type": "stream",
     "text": [
      " you'd like."
     ]
    },
    {
     "data": {
      "text/plain": [
       "AgentResult(stop_reason='end_turn', message={'role': 'assistant', 'content': [{'text': \"If you spend about $50 per day on food, your total food budget for a week (7 days) would be $350.\\n\\nThis budget covers all your meals for the entire week. Depending on your destination, this amount might vary in terms of what it can get you. In some locations, $50 per day can cover three full meals in restaurants, while in others it might mean mixing restaurant meals with grocery shopping or street food.\\n\\nWould you like me to provide more specific information about food costs for a particular destination? I can search for restaurant options and typical food costs in specific cities if you'd like.\"}]}, metrics=EventLoopMetrics(cycle_count=2, tool_metrics={'calculator': ToolMetrics(tool={'toolUseId': 'tooluse_KYpTPP-wQgq8AA-HfKZSog', 'name': 'calculator', 'input': {'expression': '50 * 7', 'mode': 'evaluate'}}, call_count=1, success_count=1, error_count=0, total_time=0.00793004035949707)}, cycle_durations=[5.428347110748291], traces=[<strands.telemetry.metrics.Trace object at 0x7fa9f396fef0>, <strands.telemetry.metrics.Trace object at 0x7faa00eba000>], accumulated_usage={'inputTokens': 8660, 'outputTokens': 217, 'totalTokens': 8877}, accumulated_metrics={'latencyMs': 9456}), state={})"
      ]
     },
     "execution_count": 49,
     "metadata": {},
     "output_type": "execute_result"
    }
   ],
   "source": [
    "# Test the agent with a simple budget calculation\n",
    "# This verifies that the agent can use tools and perform basic operations\n",
    "travel_agent(\"I usually spend about $50 per day on food. How much will meals cost for a week?\")"
   ]
  },
  {
   "cell_type": "markdown",
   "id": "75c233a8-f3f9-4c6f-948d-45e0312f779d",
   "metadata": {},
   "source": [
    "## 4. Creating a Multi-Agent System for Advanced Trip Planning\n",
    "\n",
    "The \"Agents as Tools\" pattern allows us to create specialized agents for specific tasks and then use them as tools within a larger orchestration system. This approach provides better modularity and specialized expertise."
   ]
  },
  {
   "cell_type": "markdown",
   "id": "2b18c734",
   "metadata": {},
   "source": [
    "### Budget Planning Specialist Agent\n",
    "\n",
    "First, let's create a specialized agent focused on budget analysis and financial planning:"
   ]
  },
  {
   "cell_type": "code",
   "execution_count": null,
   "id": "1021d6de-da3a-42e1-b1b5-f32810ae3fb2",
   "metadata": {},
   "outputs": [],
   "source": [
    "# System prompt for the budget planning specialist\n",
    "# This agent focuses specifically on financial aspects of travel planning\n",
    "BUDGET_PLANNER_PROMPT = \"\"\"\n",
    "You are a travel budget specialist. Your role is to:\n",
    "- Calculate detailed budget breakdowns for trips\n",
    "- Find cost-saving opportunities\n",
    "- Suggest budget-friendly alternatives\n",
    "- Provide tips for managing travel expenses\n",
    "- Consider hidden costs (taxes, tips, transportation)\n",
    "\"\"\""
   ]
  },
  {
   "cell_type": "code",
   "execution_count": null,
   "id": "efb69376-37c6-48c1-8289-5ae82ceb19d6",
   "metadata": {},
   "outputs": [],
   "source": [
    "@tool\n",
    "def budget_planning_agent(trip_details: str, budget_limit: Optional[float] = None) -> str:\n",
    "    \"\"\"\n",
    "    Specialized agent for travel budget planning and optimization.\n",
    "    \n",
    "    Args:\n",
    "        trip_details: Description of the trip including destination, duration, and preferences\n",
    "        budget_limit: Maximum budget in USD (optional)\n",
    "        \n",
    "    Returns:\n",
    "        Detailed budget analysis and recommendations\n",
    "    \"\"\"\n",
    "    budget_agent = Agent(\n",
    "        model=model,\n",
    "        system_prompt=BUDGET_PLANNER_PROMPT,\n",
    "        tools=[calculator, search_hotels, search_flights]\n",
    "    )\n",
    "    \n",
    "    query = f\"Create a detailed budget plan for: {trip_details}\"\n",
    "    if budget_limit:\n",
    "        query += f\" with a maximum budget of ${budget_limit}\"\n",
    "    \n",
    "    return budget_agent(query).message"
   ]
  },
  {
   "cell_type": "markdown",
   "id": "13d5bd67",
   "metadata": {},
   "source": [
    "### Itinerary Creation Specialist Agent\n",
    "\n",
    "Next, let's create an agent specialized in creating detailed, optimized itineraries:"
   ]
  },
  {
   "cell_type": "code",
   "execution_count": null,
   "id": "b6e26fff-65f8-4775-b0c7-ad997accd60f",
   "metadata": {},
   "outputs": [],
   "source": [
    "# System prompt for the itinerary creation specialist\n",
    "# This agent focuses on creating optimal day-by-day travel plans\n",
    "ITINERARY_CREATOR_PROMPT = \"\"\"\n",
    "You are an expert travel itinerary designer. Your role is to:\n",
    "- Create day-by-day detailed itineraries\n",
    "- Optimize travel routes and timing\n",
    "- Balance activities with rest time\n",
    "- Consider opening hours and peak times\n",
    "- Provide alternative options for each activity\n",
    "\"\"\""
   ]
  },
  {
   "cell_type": "code",
   "execution_count": null,
   "id": "eccb4e56-38cf-45f7-a005-3a25572eb05a",
   "metadata": {},
   "outputs": [],
   "source": [
    "@tool\n",
    "def itinerary_creation_agent(destination: str, duration: int, interests: List[str]) -> str:\n",
    "    \"\"\"\n",
    "    Specialized agent for creating detailed travel itineraries.\n",
    "    \n",
    "    Args:\n",
    "        destination: Travel destination\n",
    "        duration: Number of days\n",
    "        interests: List of traveler interests\n",
    "        \n",
    "    Returns:\n",
    "        Detailed day-by-day itinerary\n",
    "    \"\"\"\n",
    "    itinerary_agent = Agent(\n",
    "        model=model,\n",
    "        system_prompt=ITINERARY_CREATOR_PROMPT,\n",
    "        tools=[search_activities, search_restaurants]\n",
    "    )\n",
    "    \n",
    "    query = f\"Create a {duration}-day itinerary for {destination} focusing on: {', '.join(interests)}\"\n",
    "    return itinerary_agent(query).message"
   ]
  },
  {
   "cell_type": "markdown",
   "id": "6bc4442d",
   "metadata": {},
   "source": [
    "### Master Orchestrator Agent\n",
    "\n",
    "Finally, let's create the orchestrator agent that coordinates all specialized agents and tools:"
   ]
  },
  {
   "cell_type": "code",
   "execution_count": null,
   "id": "28f1eaaf-25e1-4822-afd5-e91ae3c70904",
   "metadata": {},
   "outputs": [],
   "source": [
    "# System prompt for the master orchestrator agent\n",
    "# This agent serves as the intelligent coordinator for complex travel planning tasks\n",
    "ORCHESTRATOR_PROMPT = \"\"\"\n",
    "You are the lead travel planning coordinator. You delegate tasks to specialized agents:\n",
    "- For budget analysis → Use budget_planning_agent\n",
    "- For detailed itineraries → Use itinerary_creation_agent\n",
    "- For general travel information → Use the search tools directly\n",
    "\n",
    "Coordinate these resources to create comprehensive travel plans that address all aspects\n",
    "of the user's trip. Always ensure the final plan is cohesive and practical.\n",
    "\"\"\""
   ]
  },
  {
   "cell_type": "code",
   "execution_count": null,
   "id": "9f4d0c5c-f266-4335-ab8b-ff7c49ca8f74",
   "metadata": {},
   "outputs": [
    {
     "name": "stderr",
     "output_type": "stream",
     "text": [
      "DEBUG | strands.tools.registry | tool_name=<budget_planning_agent> | registering function tool\n",
      "DEBUG | strands.tools.registry | tool_name=<budget_planning_agent>, tool_type=<function>, is_dynamic=<False> | registering tool\n",
      "DEBUG | strands.tools.registry | tool_name=<itinerary_creation_agent> | registering function tool\n",
      "DEBUG | strands.tools.registry | tool_name=<itinerary_creation_agent>, tool_type=<function>, is_dynamic=<False> | registering tool\n",
      "DEBUG | strands.tools.registry | tool_name=<search_destination> | registering function tool\n",
      "DEBUG | strands.tools.registry | tool_name=<search_destination>, tool_type=<function>, is_dynamic=<False> | registering tool\n",
      "DEBUG | strands.tools.registry | tool_name=<search_flights> | registering function tool\n",
      "DEBUG | strands.tools.registry | tool_name=<search_flights>, tool_type=<function>, is_dynamic=<False> | registering tool\n",
      "DEBUG | strands.tools.registry | tool_name=<search_hotels> | registering function tool\n",
      "DEBUG | strands.tools.registry | tool_name=<search_hotels>, tool_type=<function>, is_dynamic=<False> | registering tool\n",
      "DEBUG | strands.tools.registry | tool_name=<get_weather_forecast> | registering function tool\n",
      "DEBUG | strands.tools.registry | tool_name=<get_weather_forecast>, tool_type=<function>, is_dynamic=<False> | registering tool\n",
      "DEBUG | strands.tools.registry | tools_dir=</home/sagemaker-user/samples/01-getting-started/16-trip-planner/tools> | tools directory not found\n",
      "DEBUG | strands.tools.registry | tool_modules=<[]> | discovered\n",
      "DEBUG | strands.tools.registry | tool_count=<0>, success_count=<0> | finished loading tools\n",
      "DEBUG | strands.tools.registry | tools_dir=</home/sagemaker-user/samples/01-getting-started/16-trip-planner/tools> | tools directory not found\n"
     ]
    }
   ],
   "source": [
    "# Create the master orchestrator agent with access to all tools and specialist agents\n",
    "orchestrator = Agent(\n",
    "    model=model,\n",
    "    system_prompt=ORCHESTRATOR_PROMPT,\n",
    "    tools=[\n",
    "        # Specialized agent tools (agents as tools pattern)\n",
    "        budget_planning_agent,      # For comprehensive budget analysis\n",
    "        itinerary_creation_agent,   # For detailed itinerary creation\n",
    "        \n",
    "        # Direct search tools for immediate information needs\n",
    "        search_destination,         # For general destination research\n",
    "        search_flights,            # For flight information\n",
    "        search_hotels,             # For accommodation research\n",
    "        get_weather_forecast       # For weather planning\n",
    "    ]\n",
    ")"
   ]
  },
  {
   "cell_type": "markdown",
   "id": "220e4cf3-ba12-4fe3-843b-b683c198fb90",
   "metadata": {},
   "source": [
    "## 5. Testing the Travel Planning Agent\n",
    "\n",
    "### Example 1: Simple Destination Query\n",
    "\n",
    "Let's start with a straightforward query about visiting a specific destination:"
   ]
  },
  {
   "cell_type": "code",
   "execution_count": null,
   "id": "e37b2672-32de-4141-aacb-8112a88b3c13",
   "metadata": {},
   "outputs": [
    {
     "name": "stderr",
     "output_type": "stream",
     "text": [
      "DEBUG | strands.tools.registry | getting tool configurations\n",
      "DEBUG | strands.tools.registry | tool_name=<search_destination> | loaded tool config\n",
      "DEBUG | strands.tools.registry | tool_name=<search_flights> | loaded tool config\n",
      "DEBUG | strands.tools.registry | tool_name=<search_hotels> | loaded tool config\n",
      "DEBUG | strands.tools.registry | tool_name=<search_activities> | loaded tool config\n",
      "DEBUG | strands.tools.registry | tool_name=<search_restaurants> | loaded tool config\n",
      "DEBUG | strands.tools.registry | tool_name=<get_weather_forecast> | loaded tool config\n",
      "DEBUG | strands.tools.registry | tool_name=<calculator> | loaded tool config\n",
      "DEBUG | strands.tools.registry | tool_name=<current_time> | loaded tool config\n",
      "DEBUG | strands.tools.registry | tool_name=<http_request> | loaded tool config\n",
      "DEBUG | strands.tools.registry | tool_count=<9> | tools configured\n",
      "DEBUG | strands.tools.registry | getting tool configurations\n",
      "DEBUG | strands.tools.registry | tool_name=<search_destination> | loaded tool config\n",
      "DEBUG | strands.tools.registry | tool_name=<search_flights> | loaded tool config\n",
      "DEBUG | strands.tools.registry | tool_name=<search_hotels> | loaded tool config\n",
      "DEBUG | strands.tools.registry | tool_name=<search_activities> | loaded tool config\n",
      "DEBUG | strands.tools.registry | tool_name=<search_restaurants> | loaded tool config\n",
      "DEBUG | strands.tools.registry | tool_name=<get_weather_forecast> | loaded tool config\n",
      "DEBUG | strands.tools.registry | tool_name=<calculator> | loaded tool config\n",
      "DEBUG | strands.tools.registry | tool_name=<current_time> | loaded tool config\n",
      "DEBUG | strands.tools.registry | tool_name=<http_request> | loaded tool config\n",
      "DEBUG | strands.tools.registry | tool_count=<9> | tools configured\n",
      "DEBUG | strands.event_loop.streaming | model=<<strands.models.bedrock.BedrockModel object at 0x7faa0d44fc80>> | streaming messages\n",
      "DEBUG | strands.types.models.model | formatting request\n",
      "DEBUG | strands.types.models.model | invoking model\n",
      "DEBUG | strands.types.models.model | got response from model\n"
     ]
    },
    {
     "name": "stdout",
     "output_type": "stream",
     "text": [
      "I'd be happy to tell you about visiting Tokyo in spring! Let me search for the most up-to-date information about Tokyo as a destination and its attractions during springtime.\n",
      "Tool #1: search_destination\n"
     ]
    },
    {
     "name": "stderr",
     "output_type": "stream",
     "text": [
      "DEBUG | strands.types.models.model | finished streaming response from model\n",
      "DEBUG | strands.tools.executor | tool_count=<1>, tool_executor=<ThreadPoolExecutorWrapper> | executing tools in parallel\n",
      "DEBUG | strands.handlers.tool_handler | tool=<{'toolUseId': 'tooluse_eDqLGoAaTFaPYxE37N6zqw', 'name': 'search_destination', 'input': {'destination': 'Tokyo'}}> | invoking\n",
      "DEBUG | strands.tools.executor | tool_count=<1> | submitted tasks to parallel executor\n",
      "DEBUG | strands.event_loop.streaming | model=<<strands.models.bedrock.BedrockModel object at 0x7faa0d44fc80>> | streaming messages\n",
      "DEBUG | strands.types.models.model | formatting request\n",
      "DEBUG | strands.types.models.model | invoking model\n",
      "DEBUG | strands.types.models.model | got response from model\n"
     ]
    },
    {
     "name": "stdout",
     "output_type": "stream",
     "text": [
      "Now, let me get more specific information about activities you might enjoy in Tokyo during spring:\n",
      "Tool #2: search_activities\n"
     ]
    },
    {
     "name": "stderr",
     "output_type": "stream",
     "text": [
      "DEBUG | strands.types.models.model | finished streaming response from model\n",
      "DEBUG | strands.handlers.tool_handler | tool=<{'toolUseId': 'tooluse_h1LGJVuPQfCcr1JI7CUIig', 'name': 'search_activities', 'input': {'destination': 'Tokyo', 'interests': ['cherry blossoms', 'spring festivals', 'parks', 'gardens']}}> | invoking\n",
      "DEBUG | strands.event_loop.streaming | model=<<strands.models.bedrock.BedrockModel object at 0x7faa0d44fc80>> | streaming messages\n",
      "DEBUG | strands.types.models.model | formatting request\n",
      "DEBUG | strands.types.models.model | invoking model\n",
      "DEBUG | strands.types.models.model | got response from model\n"
     ]
    },
    {
     "name": "stdout",
     "output_type": "stream",
     "text": [
      "Let me also check the weather forecast for Tokyo in spring to give you a better idea of what to expect:\n",
      "Tool #3: get_weather_forecast\n"
     ]
    },
    {
     "name": "stderr",
     "output_type": "stream",
     "text": [
      "DEBUG | strands.types.models.model | finished streaming response from model\n",
      "DEBUG | strands.handlers.tool_handler | tool=<{'toolUseId': 'tooluse_4Sw-joPCQMeZcTv0iNYZqg', 'name': 'get_weather_forecast', 'input': {'destination': 'Tokyo'}}> | invoking\n",
      "DEBUG | strands.event_loop.streaming | model=<<strands.models.bedrock.BedrockModel object at 0x7faa0d44fc80>> | streaming messages\n",
      "DEBUG | strands.types.models.model | formatting request\n",
      "DEBUG | strands.types.models.model | invoking model\n",
      "DEBUG | strands.types.models.model | got response from model\n",
      "DEBUG | strands.event_loop.error_handler | retry_delay_seconds=<4>, max_attempts=<6>, current_attempt=<1> | throttling exception encountered | delaying before next retry\n",
      "DEBUG | strands.event_loop.streaming | model=<<strands.models.bedrock.BedrockModel object at 0x7faa0d44fc80>> | streaming messages\n",
      "DEBUG | strands.types.models.model | formatting request\n",
      "DEBUG | strands.types.models.model | invoking model\n",
      "DEBUG | strands.types.models.model | got response from model\n",
      "DEBUG | strands.event_loop.error_handler | retry_delay_seconds=<4>, max_attempts=<6>, current_attempt=<2> | throttling exception encountered | delaying before next retry\n",
      "DEBUG | strands.event_loop.streaming | model=<<strands.models.bedrock.BedrockModel object at 0x7faa0d44fc80>> | streaming messages\n",
      "DEBUG | strands.types.models.model | formatting request\n",
      "DEBUG | strands.types.models.model | invoking model\n",
      "DEBUG | strands.types.models.model | got response from model\n",
      "DEBUG | strands.event_loop.error_handler | retry_delay_seconds=<4>, max_attempts=<6>, current_attempt=<3> | throttling exception encountered | delaying before next retry\n",
      "DEBUG | strands.event_loop.streaming | model=<<strands.models.bedrock.BedrockModel object at 0x7faa0d44fc80>> | streaming messages\n",
      "DEBUG | strands.types.models.model | formatting request\n",
      "DEBUG | strands.types.models.model | invoking model\n",
      "DEBUG | strands.types.models.model | got response from model\n",
      "DEBUG | strands.event_loop.error_handler | retry_delay_seconds=<4>, max_attempts=<6>, current_attempt=<4> | throttling exception encountered | delaying before next retry\n",
      "DEBUG | strands.event_loop.streaming | model=<<strands.models.bedrock.BedrockModel object at 0x7faa0d44fc80>> | streaming messages\n",
      "DEBUG | strands.types.models.model | formatting request\n",
      "DEBUG | strands.types.models.model | invoking model\n",
      "DEBUG | strands.types.models.model | got response from model\n"
     ]
    },
    {
     "name": "stdout",
     "output_type": "stream",
     "text": [
      "# Visiting Tokyo in Spring: Cherry Blossoms and Must-See Destinations\n",
      "\n",
      "Spring is one of the most magical times to visit Tokyo, primarily due to the breathtaking cherry blossom (sakura) season. Based on my latest search results, here's a comprehensive guide to help you make the most of your springtime visit to Tokyo.\n",
      "\n",
      "## Cherry Blossom Season in Tokyo\n",
      "\n",
      "The cherry blossom season in Tokyo typically runs from late March to mid-April, though this can vary slightly each year. This fleeting natural phenomenon, called \"hanami\" (flower viewing) by the Japanese, transforms the city into a spectacular pink wonderland.\n",
      "\n",
      "### Best Time to Visit for Cherry Blossoms\n",
      "\n",
      "According to current data, the peak bloom period usually occurs during the first two weeks of April. For 2025, forecasts suggest late March to early April will be the prime viewing time. The blossoms typically only last for about 1-2 weeks at full bloom, so timing is everything!\n",
      "\n",
      "## Top Cherry Blossom Viewing Spots in Tokyo\n",
      "\n",
      "Based on the most up-to-date information, here are the must-see cherry blossom locations in Tokyo:\n",
      "\n",
      "### 1. Shinjuku Gyoen National Garden\n",
      "- One of Tokyo's most beautiful and spacious parks\n",
      "- Features over 1,000 cherry trees of different varieties\n",
      "- Offers wide lawns perfect for hanami picnics\n",
      "- Entrance fee applies (¥500 for adults), but worth it for the less crowded experience\n",
      "- Best for: Relaxed viewing and photography\n",
      "\n",
      "### 2. Ueno Park\n",
      "- Tokyo's most famous cherry blossom spot with approximately 800 cherry trees\n",
      "- Dating back to the 16th century as a hanami destination\n",
      "- Features the beautiful \"sakura tunnel\" along the main path\n",
      "- Free entry but extremely crowded during peak season\n",
      "- Best for: The traditional, festive hanami atmosphere with food stalls\n",
      "\n",
      "### 3. Meguro River\n",
      "- Approximately 800 cherry trees line this 3.8 km canal\n",
      "- Especially beautiful in the Nakameguro area\n",
      "- Trees are illuminated at night during the Nakameguro Cherry Blossom Festival\n",
      "- Features food stalls and pink champagne vendors during the festival\n",
      "- Best for: Evening viewing with beautiful illuminations\n",
      "\n",
      "### 4. Chidorigafuchi\n",
      "- A moat area around the Imperial Palace\n",
      "- One of the most photogenic sakura spots with trees reflecting in the water\n",
      "- Boat rentals available to row among falling petals\n",
      "- Illuminated at night during the season\n",
      "- Best for: Romantic views and photography\n",
      "\n",
      "### 5. Sumida Park\n",
      "- Cherry trees line both sides of the Sumida River\n",
      "- Offers stunning views with Tokyo Skytree in the background\n",
      "- Popular for river cruises during cherry blossom season\n",
      "- Best for: Combining cherry blossom viewing with river activities\n",
      "\n",
      "### 6. Yoyogi Park\n",
      "- Large public park with hundreds of cherry trees\n",
      "- Extremely popular for hanami parties\n",
      "- Lively atmosphere with many locals\n",
      "- Best for: Social hanami gatherings and people watching\n",
      "\n",
      "### 7. Inokashira Park\n",
      "- Charming park in western Tokyo (Kichijoji area)\n",
      "- Features cherry trees surrounding a central pond\n",
      "- Swan boat rentals available\n",
      "- Less crowded than central Tokyo spots\n",
      "- Best for: A more relaxed viewing experience away from downtown crowds\n",
      "\n",
      "### 8. Rikugien Garden\n",
      "- Traditional Japanese landscape garden\n",
      "- Famous for its weeping cherry tree (shidare-zakura)\n",
      "- Special evening illuminations during blossom season\n",
      "- Best for: Traditional Japanese garden aesthetics\n",
      "\n",
      "## Spring Weather in Tokyo\n",
      "\n",
      "According to current weather data, spring in Tokyo brings mild temperatures ranging from the mid-50s°F (13°C) to mid-70s°F (24°C). Be prepared for some rain, especially in late spring. Current forecasts show temperatures around 70-79°F with variable precipitation (40-90% chance depending on the day).\n",
      "\n",
      "## Spring Festivals and Events\n",
      "\n",
      "Spring in Tokyo features numerous seasonal celebrations:\n",
      "\n",
      "1. **Nakameguro Cherry Blossom Festival** - Food stalls and illuminated trees along the Meguro River.\n",
      "\n",
      "2. **Ueno Cherry Blossom Festival** - Traditional festival atmosphere with food vendors and street performances.\n",
      "\n",
      "3. **Sakura Fes Nihonbashi** - Urban celebration featuring sakura-themed foods and decorations.\n",
      "\n",
      "4. **Tokyo Midtown Sakura Festival** - Modern celebration with art installations and special lighting.\n",
      "\n",
      "5. **Bunkyo Sakura Festival** - Located at Bunkyo Ward, featuring cultural performances.\n",
      "\n",
      "## Beyond Cherry Blossoms: Other Spring Attractions\n",
      "\n",
      "Tokyo offers plenty of other attractions during spring:\n",
      "\n",
      "1. **Tokyo National Museum** - Japan's oldest and largest museum with special spring exhibitions.\n",
      "\n",
      "2. **Sensoji Temple in Asakusa** - Tokyo's oldest temple, beautiful in spring.\n",
      "\n",
      "3. **Hamarikyu Gardens** - Traditional garden with seasonal flowers and a teahouse.\n",
      "\n",
      "4. **Tokyo Skytree** - For panoramic views of the cherry blossom-dotted city.\n",
      "\n",
      "5. **Meiji Shrine** - Serene shrine surrounded by forest in the heart of Tokyo.\n",
      "\n",
      "## Spring Food and Drinks\n",
      "\n",
      "Spring in Tokyo brings special seasonal foods:\n",
      "\n",
      "1. **Sakura-flavored treats** - Everything from sakura mochi to sakura-flavored lattes and even sakura-infused beer.\n",
      "\n",
      "2. **Seasonal bento boxes** - Special spring-themed lunch boxes available at department stores.\n",
      "\n",
      "3. **Hanami dango** - Pink, white, and green rice dumplings on skewers, symbolizing spring.\n",
      "\n",
      "4. **Food stalls at cherry blossom festivals** - Try yakisoba (fried noodles), takoyaki (octopus balls), and other street foods.\n",
      "\n",
      "## Tips for Your Spring Visit to Tokyo\n",
      "\n",
      "1. **Book accommodations early** - Spring is peak tourist season, so hotels fill up quickly.\n",
      "\n",
      "2. **Be flexible with your schedule** - Cherry blossoms can bloom earlier or later than forecast.\n",
      "\n",
      "3. **Pack layers** - Spring weather can be changeable; bring a light jacket and umbrella.\n",
      "\n",
      "4. **Visit popular spots on weekdays** - Major cherry blossom locations are extremely crowded on weekends.\n",
      "\n",
      "5. **Consider early morning or evening visits** - For less crowds and beautiful lighting.\n",
      "\n",
      "6. **Bring a picnic blanket** - For joining the traditional hanami parties in parks.\n",
      "\n",
      "7. **Take public transportation** - Traffic is heavy during cherry blossom season.\n",
      "\n",
      "Would you like more specific information about any of these locations or recommendations for creating a spring itinerary in Tokyo? I can help you plan day-by-day activities or suggest specific neighborhoods to explore during"
     ]
    },
    {
     "name": "stderr",
     "output_type": "stream",
     "text": [
      "DEBUG | strands.types.models.model | finished streaming response from model\n",
      "DEBUG | strands.agent.conversation_manager.sliding_window_conversation_manager | window_size=<8>, message_count=<40> | skipping context reduction\n"
     ]
    },
    {
     "name": "stdout",
     "output_type": "stream",
     "text": [
      " your visit."
     ]
    }
   ],
   "source": [
    "# Test with a simple destination query\n",
    "# This demonstrates basic tool usage and destination research capabilities\n",
    "response = travel_agent(\"Tell me about visiting Tokyo in spring. What are the must-see places?\")"
   ]
  },
  {
   "cell_type": "markdown",
   "id": "a4950582-cd95-4623-9b62-8f7f7a293401",
   "metadata": {},
   "source": [
    "### Example 2: Complex Multi-Day Trip Planning\n",
    "\n",
    "Now let's test the orchestrator with a complex trip planning request that requires multiple specialized agents:"
   ]
  },
  {
   "cell_type": "code",
   "execution_count": null,
   "id": "4f23ff26-16b7-4a4a-aa8f-e5b7e2df03cf",
   "metadata": {},
   "outputs": [],
   "source": [
    "def get_future_date():\n",
    "    \"\"\"Get a random date 1-4 weeks in the future\"\"\"\n",
    "    days = random.randint(7, 28)\n",
    "    future = datetime.now() + timedelta(days=days)\n",
    "    return future.strftime(\"%B %d, %Y\")"
   ]
  },
  {
   "cell_type": "code",
   "execution_count": null,
   "id": "ae9817d3-16f9-4c0d-a2f1-5a2f8b6c9cbb",
   "metadata": {},
   "outputs": [],
   "source": [
    "# Create a complex trip planning request that will engage multiple agents\n",
    "trip_request = \"\"\"\n",
    "I want to visit Tokyo for 7 days starting {date}. \n",
    "My budget is $3000 per person excluding flights.\n",
    "Please search for general travel information about Tokyo and calculate my daily budget.\n",
    "\"\"\".format(date=get_future_date())"
   ]
  },
  {
   "cell_type": "code",
   "execution_count": null,
   "id": "071c879e-1956-40ff-b000-47e78a612616",
   "metadata": {},
   "outputs": [
    {
     "name": "stderr",
     "output_type": "stream",
     "text": [
      "DEBUG | strands.tools.registry | getting tool configurations\n",
      "DEBUG | strands.tools.registry | tool_name=<budget_planning_agent> | loaded tool config\n",
      "DEBUG | strands.tools.registry | tool_name=<itinerary_creation_agent> | loaded tool config\n",
      "DEBUG | strands.tools.registry | tool_name=<search_destination> | loaded tool config\n",
      "DEBUG | strands.tools.registry | tool_name=<search_flights> | loaded tool config\n",
      "DEBUG | strands.tools.registry | tool_name=<search_hotels> | loaded tool config\n",
      "DEBUG | strands.tools.registry | tool_name=<get_weather_forecast> | loaded tool config\n",
      "DEBUG | strands.tools.registry | tool_count=<6> | tools configured\n",
      "DEBUG | strands.tools.registry | getting tool configurations\n",
      "DEBUG | strands.tools.registry | tool_name=<budget_planning_agent> | loaded tool config\n",
      "DEBUG | strands.tools.registry | tool_name=<itinerary_creation_agent> | loaded tool config\n",
      "DEBUG | strands.tools.registry | tool_name=<search_destination> | loaded tool config\n",
      "DEBUG | strands.tools.registry | tool_name=<search_flights> | loaded tool config\n",
      "DEBUG | strands.tools.registry | tool_name=<search_hotels> | loaded tool config\n",
      "DEBUG | strands.tools.registry | tool_name=<get_weather_forecast> | loaded tool config\n",
      "DEBUG | strands.tools.registry | tool_count=<6> | tools configured\n",
      "DEBUG | strands.event_loop.streaming | model=<<strands.models.bedrock.BedrockModel object at 0x7faa0d44fc80>> | streaming messages\n",
      "DEBUG | strands.types.models.model | formatting request\n",
      "DEBUG | strands.types.models.model | invoking model\n",
      "DEBUG | strands.types.models.model | got response from model\n"
     ]
    },
    {
     "name": "stdout",
     "output_type": "stream",
     "text": [
      "I'd be happy to help you plan your 7-day trip to Tokyo starting July 1, 2025! Let me start by gathering some general travel information about Tokyo and then calculate a daily budget within your $3000 per person limit (excluding flights).\n",
      "Tool #20: search_destination\n"
     ]
    },
    {
     "name": "stderr",
     "output_type": "stream",
     "text": [
      "DEBUG | strands.types.models.model | finished streaming response from model\n",
      "DEBUG | strands.tools.executor | tool_count=<1>, tool_executor=<ThreadPoolExecutorWrapper> | executing tools in parallel\n",
      "DEBUG | strands.tools.executor | tool_count=<1> | submitted tasks to parallel executor\n",
      "DEBUG | strands.event_loop.streaming | model=<<strands.models.bedrock.BedrockModel object at 0x7faa0d44fc80>> | streaming messages\n",
      "DEBUG | strands.types.models.model | formatting request\n",
      "DEBUG | strands.types.models.model | invoking model\n",
      "DEBUG | strands.types.models.model | got response from model\n"
     ]
    },
    {
     "name": "stdout",
     "output_type": "stream",
     "text": [
      "\n",
      "Tool #21: get_weather_forecast\n"
     ]
    },
    {
     "name": "stderr",
     "output_type": "stream",
     "text": [
      "DEBUG | strands.types.models.model | finished streaming response from model\n",
      "DEBUG | strands.handlers.tool_handler | tool=<{'toolUseId': 'tooluse_AAx18DWhR4ygWW3dJtrIlg', 'name': 'get_weather_forecast', 'input': {'destination': 'Tokyo, Japan', 'date': 'July 2025'}}> | invoking\n",
      "DEBUG | strands.event_loop.streaming | model=<<strands.models.bedrock.BedrockModel object at 0x7faa0d44fc80>> | streaming messages\n",
      "DEBUG | strands.types.models.model | formatting request\n",
      "DEBUG | strands.types.models.model | invoking model\n",
      "DEBUG | strands.types.models.model | got response from model\n",
      "DEBUG | strands.event_loop.error_handler | retry_delay_seconds=<4>, max_attempts=<6>, current_attempt=<1> | throttling exception encountered | delaying before next retry\n",
      "DEBUG | strands.event_loop.streaming | model=<<strands.models.bedrock.BedrockModel object at 0x7faa0d44fc80>> | streaming messages\n",
      "DEBUG | strands.types.models.model | formatting request\n",
      "DEBUG | strands.types.models.model | invoking model\n",
      "DEBUG | strands.types.models.model | got response from model\n"
     ]
    },
    {
     "name": "stdout",
     "output_type": "stream",
     "text": [
      "Now let's use the budget planning agent to help you plan your Tokyo trip:\n",
      "Tool #22: budget_planning_agent\n"
     ]
    },
    {
     "name": "stderr",
     "output_type": "stream",
     "text": [
      "DEBUG | strands.types.models.model | finished streaming response from model\n",
      "DEBUG | strands.handlers.tool_handler | tool=<{'toolUseId': 'tooluse_th3x7EUIR76IoeZ1W2008A', 'name': 'budget_planning_agent', 'input': {'trip_details': '7-day trip to Tokyo, Japan starting July 1, 2025. I want to see major attractions, experience traditional culture, enjoy local food, and explore both modern and historical sites in Tokyo.', 'budget_limit': 3000}}> | invoking\n",
      "DEBUG | strands.tools.registry | tool_name=<calculator>, tool_type=<function>, is_dynamic=<False> | registering tool\n",
      "DEBUG | strands.tools.registry | tool_name=<search_hotels> | registering function tool\n",
      "DEBUG | strands.tools.registry | tool_name=<search_hotels>, tool_type=<function>, is_dynamic=<False> | registering tool\n",
      "DEBUG | strands.tools.registry | tool_name=<search_flights> | registering function tool\n",
      "DEBUG | strands.tools.registry | tool_name=<search_flights>, tool_type=<function>, is_dynamic=<False> | registering tool\n",
      "DEBUG | strands.tools.registry | tools_dir=</home/sagemaker-user/samples/01-getting-started/16-trip-planner/tools> | tools directory not found\n",
      "DEBUG | strands.tools.registry | tool_modules=<[]> | discovered\n",
      "DEBUG | strands.tools.registry | tool_count=<0>, success_count=<0> | finished loading tools\n",
      "DEBUG | strands.tools.registry | tools_dir=</home/sagemaker-user/samples/01-getting-started/16-trip-planner/tools> | tools directory not found\n",
      "DEBUG | strands.tools.registry | getting tool configurations\n",
      "DEBUG | strands.tools.registry | tool_name=<calculator> | loaded tool config\n",
      "DEBUG | strands.tools.registry | tool_name=<search_hotels> | loaded tool config\n",
      "DEBUG | strands.tools.registry | tool_name=<search_flights> | loaded tool config\n",
      "DEBUG | strands.tools.registry | tool_count=<3> | tools configured\n",
      "DEBUG | strands.tools.registry | getting tool configurations\n",
      "DEBUG | strands.tools.registry | tool_name=<calculator> | loaded tool config\n",
      "DEBUG | strands.tools.registry | tool_name=<search_hotels> | loaded tool config\n",
      "DEBUG | strands.tools.registry | tool_name=<search_flights> | loaded tool config\n",
      "DEBUG | strands.tools.registry | tool_count=<3> | tools configured\n",
      "DEBUG | strands.event_loop.streaming | model=<<strands.models.bedrock.BedrockModel object at 0x7faa0d44fc80>> | streaming messages\n",
      "DEBUG | strands.types.models.model | formatting request\n",
      "DEBUG | strands.types.models.model | invoking model\n",
      "DEBUG | strands.types.models.model | got response from model\n",
      "DEBUG | strands.event_loop.error_handler | retry_delay_seconds=<4>, max_attempts=<6>, current_attempt=<1> | throttling exception encountered | delaying before next retry\n",
      "DEBUG | strands.event_loop.streaming | model=<<strands.models.bedrock.BedrockModel object at 0x7faa0d44fc80>> | streaming messages\n",
      "DEBUG | strands.types.models.model | formatting request\n",
      "DEBUG | strands.types.models.model | invoking model\n",
      "DEBUG | strands.types.models.model | got response from model\n",
      "DEBUG | strands.event_loop.error_handler | retry_delay_seconds=<4>, max_attempts=<6>, current_attempt=<2> | throttling exception encountered | delaying before next retry\n",
      "DEBUG | strands.event_loop.streaming | model=<<strands.models.bedrock.BedrockModel object at 0x7faa0d44fc80>> | streaming messages\n",
      "DEBUG | strands.types.models.model | formatting request\n",
      "DEBUG | strands.types.models.model | invoking model\n",
      "DEBUG | strands.types.models.model | got response from model\n",
      "DEBUG | strands.event_loop.error_handler | retry_delay_seconds=<4>, max_attempts=<6>, current_attempt=<3> | throttling exception encountered | delaying before next retry\n",
      "DEBUG | strands.event_loop.streaming | model=<<strands.models.bedrock.BedrockModel object at 0x7faa0d44fc80>> | streaming messages\n",
      "DEBUG | strands.types.models.model | formatting request\n",
      "DEBUG | strands.types.models.model | invoking model\n",
      "DEBUG | strands.types.models.model | got response from model\n"
     ]
    },
    {
     "name": "stdout",
     "output_type": "stream",
     "text": [
      "I'd be happy to create a detailed budget plan for your 7-day trip to Tokyo, Japan. To make this more accurate, I'll need to estimate costs for various components of your trip including flights, accommodation, attractions, food, transportation, and miscellaneous expenses.\n",
      "\n",
      "Let's start by breaking down your $3,000 budget. For Tokyo, we'll need to consider:\n",
      "1. Flight costs (often a major expense)\n",
      "2. Accommodation for 7 nights\n",
      "3. Daily expenses for food\n",
      "4. Local transportation\n",
      "5. Attraction tickets and activities\n",
      "6. Miscellaneous expenses (souvenirs, contingency)\n",
      "\n",
      "Since you haven't specified your departure location, I'll need to ask:\n",
      "\n",
      "Where will you be departing from (airport code) for your trip to Tokyo? This will help me calculate"
     ]
    },
    {
     "name": "stderr",
     "output_type": "stream",
     "text": [
      "DEBUG | strands.types.models.model | finished streaming response from model\n",
      "DEBUG | strands.agent.conversation_manager.sliding_window_conversation_manager | window_size=<2>, message_count=<40> | skipping context reduction\n",
      "DEBUG | strands.event_loop.streaming | model=<<strands.models.bedrock.BedrockModel object at 0x7faa0d44fc80>> | streaming messages\n",
      "DEBUG | strands.types.models.model | formatting request\n",
      "DEBUG | strands.types.models.model | invoking model\n",
      "DEBUG | strands.types.models.model | got response from model\n"
     ]
    },
    {
     "name": "stdout",
     "output_type": "stream",
     "text": [
      " flight costs accurately.Based on the information I've gathered, let me create a detailed budget breakdown for your 7-day Tokyo trip in July 2025:\n",
      "\n",
      "## Tokyo Trip: July 1-7, 2025\n",
      "### Budget Summary ($3,000 per person, excluding flights)\n",
      "\n",
      "#### Weather Information:\n",
      "Tokyo in July typically experiences highs of around 30°C (86°F) and lows of 23°C (73°F). It's summer season, so expect warm and humid weather with occasional rain. Pack light, breathable clothing, an umbrella, and sun protection.\n",
      "\n",
      "#### Daily Budget Breakdown (per person):\n",
      "\n",
      "**Accommodation (7 nights):**\n",
      "- Mid-range hotel: $150-200 per night\n",
      "- Total: $1,050-1,400\n",
      "- *Budget-saving option: Consider business hotels (~$100/night) or hostels (~$40-60/night)*\n",
      "\n",
      "**Daily Food:**\n",
      "- Breakfast: $5-10 (convenience stores or cafes)\n",
      "- Lunch: $10-15 (casual restaurants, ramen shops)\n",
      "- Dinner: $20-40 (mid-range restaurants, izakayas)\n",
      "- Snacks/drinks: $10-15\n",
      "- Total food per day: $45-80\n",
      "- Food for 7 days: $315-560\n",
      "\n",
      "**Local Transportation:**\n",
      "- 7-day Tokyo Metro pass: ~$60\n",
      "- Additional transportation (taxis, day trips): $150\n",
      "- Total transportation: $210\n",
      "\n",
      "**Attractions & Activities:**\n",
      "- Major temples/shrines (Sensoji, Meiji): $0-10 each\n",
      "- Museums (Tokyo National Museum): $10-20 each\n",
      "- Tokyo Skytree: ~$25\n",
      "- Other attractions (teamLab, Tokyo Tower): $20-30 each\n",
      "- Cultural experiences (tea ceremony, cooking class): $50-100 each\n",
      "- Total attractions (assuming 1-2 per day): $300-400\n",
      "\n",
      "**Shopping & Miscellaneous:**\n",
      "- Souvenirs: $100-200\n",
      "- Pocket WiFi/SIM card: $50\n",
      "- Contingency fund: $200\n",
      "- Total miscellaneous: $350-450\n",
      "\n",
      "**Total Estimated Budget (per person, excluding flights):** $2,225-2,820\n",
      "\n",
      "This budget gives you approximately $180-$775 in flexibility within your $3,000 limit. You can adjust by choosing different accommodation options, dining more luxuriously or economically, or adding more activities.\n",
      "\n",
      "### Top Attractions to Visit in Tokyo:\n",
      "1. Sensoji Temple in Asakusa\n",
      "2. Meiji Jingu Shrine\n",
      "3. Tokyo Skytree\n",
      "4. Shinjuku Gyoen National Garden\n",
      "5. Tokyo National Museum\n",
      "6. TeamLab Planets or Borderless digital art museums\n",
      "7. Shibuya Crossing and Shibuya Sky\n",
      "8. Harajuku and Takeshita Street\n",
      "9. Ueno Park\n",
      "10. Tsukiji Outer Market (for food)\n",
      "\n",
      "### Money-Saving Tips:\n",
      "1. Get a 7-day Tokyo Metro pass for unlimited subway travel\n",
      "2. Eat breakfast at convenience stores (surprisingly good quality)\n",
      "3. Look for lunch set menus (\"teishoku\") which are more affordable\n",
      "4. Visit free attractions like parks, certain shrines and observation decks\n",
      "5. Stay in accommodations with kitchenettes to prepare some meals\n",
      "6. Consider a Japan Rail Pass if you plan any day trips outside Tokyo\n",
      "\n",
      "Would you like me to create a day-by-day itinerary suggestion for your 7 days in Tokyo based on this budget? Or would you prefer more specific information about any aspect"
     ]
    },
    {
     "name": "stderr",
     "output_type": "stream",
     "text": [
      "DEBUG | strands.types.models.model | finished streaming response from model\n",
      "DEBUG | strands.agent.conversation_manager.sliding_window_conversation_manager | window_size=<27>, message_count=<40> | skipping context reduction\n"
     ]
    },
    {
     "name": "stdout",
     "output_type": "stream",
     "text": [
      " of your trip planning?"
     ]
    }
   ],
   "source": [
    "# Use the orchestrator for complex planning that requires multiple specialized agents\n",
    "response = orchestrator(trip_request)"
   ]
  },
  {
   "cell_type": "markdown",
   "id": "13fddabb-22da-47a1-b401-812c8770a1e5",
   "metadata": {},
   "source": [
    "## 6. Adding Memory and Context Management for Personalized Experiences\n",
    "\n",
    "To create a truly personalized travel planning experience, we need to add memory capabilities that allow the agent to remember user preferences across conversations.\n",
    "\n",
    "### Creating a Memory Management System"
   ]
  },
  {
   "cell_type": "code",
   "execution_count": null,
   "id": "54419644-b4c2-4afd-9f4b-de95cdd95bf4",
   "metadata": {},
   "outputs": [],
   "source": [
    "class TravelMemory:\n",
    "    \"\"\"Simple memory system for maintaining context across conversations\"\"\"\n",
    "    \n",
    "    def __init__(self):\n",
    "        self.conversations: List[Dict] = []\n",
    "        self.user_preferences: Dict = {}\n",
    "    \n",
    "    def add_conversation(self, user_input: str, agent_response: str):\n",
    "        self.conversations.append({\n",
    "            \"timestamp\": datetime.now().isoformat(),\n",
    "            \"user\": user_input,\n",
    "            \"agent\": agent_response\n",
    "        })\n",
    "    \n",
    "    def set_preference(self, key: str, value: any):\n",
    "        self.user_preferences[key] = value\n",
    "    \n",
    "    def get_context(self) -> str:\n",
    "        context = \"Previous conversations and preferences:\\n\"\n",
    "        \n",
    "        # Add user preferences\n",
    "        if self.user_preferences:\n",
    "            context += f\"User preferences: {json.dumps(self.user_preferences)}\\n\"\n",
    "        \n",
    "        # Add recent conversations (last 3)\n",
    "        recent_convos = self.conversations[-3:]\n",
    "        for conv in recent_convos:\n",
    "            context += f\"- User: {conv['user']}\\n\"\n",
    "            context += f\"  Agent: {conv['agent'][:100]}...\\n\"\n",
    "        \n",
    "        return context"
   ]
  },
  {
   "cell_type": "code",
   "execution_count": null,
   "id": "64dcc37e-6375-47da-b2ca-1f8b945665c4",
   "metadata": {},
   "outputs": [],
   "source": [
    "# Create a travel agent with memory\n",
    "memory = TravelMemory()"
   ]
  },
  {
   "cell_type": "markdown",
   "id": "5ad58678",
   "metadata": {},
   "source": [
    "### Creating a Preference Management Tool"
   ]
  },
  {
   "cell_type": "code",
   "execution_count": null,
   "id": "99d288ef-40e7-499d-a144-c0bea7c92252",
   "metadata": {},
   "outputs": [],
   "source": [
    "@tool\n",
    "def remember_preference(category: str, preference: str) -> str:\n",
    "    \"\"\"\n",
    "    Remember user preferences for future trip planning.\n",
    "    \n",
    "    Args:\n",
    "        category: Category of preference (e.g., 'accommodation', 'food', 'activities')\n",
    "        preference: The specific preference to remember\n",
    "        \n",
    "    Returns:\n",
    "        Confirmation message\n",
    "    \"\"\"\n",
    "    memory.set_preference(category, preference)\n",
    "    return f\"I'll remember that you prefer {preference} for {category}\""
   ]
  },
  {
   "cell_type": "markdown",
   "id": "d9281f9e",
   "metadata": {},
   "source": [
    "### Enhanced Travel Agent with Memory"
   ]
  },
  {
   "cell_type": "code",
   "execution_count": null,
   "id": "93723450-f6d5-431a-b447-67d4811ea50a",
   "metadata": {},
   "outputs": [
    {
     "name": "stderr",
     "output_type": "stream",
     "text": [
      "DEBUG | strands.tools.registry | tool_name=<remember_preference> | registering function tool\n",
      "DEBUG | strands.tools.registry | tool_name=<remember_preference>, tool_type=<function>, is_dynamic=<False> | registering tool\n",
      "DEBUG | strands.tools.registry | tool_name=<search_destination> | registering function tool\n",
      "DEBUG | strands.tools.registry | tool_name=<search_destination>, tool_type=<function>, is_dynamic=<False> | registering tool\n",
      "DEBUG | strands.tools.registry | tool_name=<search_flights> | registering function tool\n",
      "DEBUG | strands.tools.registry | tool_name=<search_flights>, tool_type=<function>, is_dynamic=<False> | registering tool\n",
      "DEBUG | strands.tools.registry | tool_name=<search_hotels> | registering function tool\n",
      "DEBUG | strands.tools.registry | tool_name=<search_hotels>, tool_type=<function>, is_dynamic=<False> | registering tool\n",
      "DEBUG | strands.tools.registry | tool_name=<search_activities> | registering function tool\n",
      "DEBUG | strands.tools.registry | tool_name=<search_activities>, tool_type=<function>, is_dynamic=<False> | registering tool\n",
      "DEBUG | strands.tools.registry | tool_name=<search_restaurants> | registering function tool\n",
      "DEBUG | strands.tools.registry | tool_name=<search_restaurants>, tool_type=<function>, is_dynamic=<False> | registering tool\n",
      "DEBUG | strands.tools.registry | tool_name=<get_weather_forecast> | registering function tool\n",
      "DEBUG | strands.tools.registry | tool_name=<get_weather_forecast>, tool_type=<function>, is_dynamic=<False> | registering tool\n",
      "DEBUG | strands.tools.registry | tools_dir=</home/sagemaker-user/samples/01-getting-started/16-trip-planner/tools> | tools directory not found\n",
      "DEBUG | strands.tools.registry | tool_modules=<[]> | discovered\n",
      "DEBUG | strands.tools.registry | tool_count=<0>, success_count=<0> | finished loading tools\n",
      "DEBUG | strands.tools.registry | tools_dir=</home/sagemaker-user/samples/01-getting-started/16-trip-planner/tools> | tools directory not found\n",
      "DEBUG | strands.agent.agent | thread pool executor shutdown complete\n"
     ]
    }
   ],
   "source": [
    "# Create an enhanced travel agent that includes memory and personalization\n",
    "travel_agent_with_memory = Agent(\n",
    "    model=model,\n",
    "    system_prompt=TRAVEL_AGENT_PROMPT + \"\\n\\n\" + memory.get_context(),  # Include personalization context\n",
    "    tools=[\n",
    "        # Memory and personalization tools\n",
    "        remember_preference,        # For storing user preferences\n",
    "        \n",
    "        # All our existing travel tools\n",
    "        search_destination,\n",
    "        search_flights,\n",
    "        search_hotels,\n",
    "        search_activities,\n",
    "        search_restaurants,\n",
    "        get_weather_forecast,\n",
    "        \n",
    "        # Built-in tools\n",
    "        calculator,\n",
    "        current_time\n",
    "    ]\n",
    ")"
   ]
  },
  {
   "cell_type": "markdown",
   "id": "632c3e6c",
   "metadata": {},
   "source": [
    "### Testing the Memory System\n",
    "\n",
    "Let's test how the memory system works with user preferences:"
   ]
  },
  {
   "cell_type": "code",
   "execution_count": null,
   "id": "8ed1491e-8be2-4f89-9d29-137f20f6eacd",
   "metadata": {},
   "outputs": [
    {
     "name": "stderr",
     "output_type": "stream",
     "text": [
      "DEBUG | strands.tools.registry | getting tool configurations\n",
      "DEBUG | strands.tools.registry | tool_name=<remember_preference> | loaded tool config\n",
      "DEBUG | strands.tools.registry | tool_name=<search_destination> | loaded tool config\n",
      "DEBUG | strands.tools.registry | tool_name=<search_flights> | loaded tool config\n",
      "DEBUG | strands.tools.registry | tool_name=<search_hotels> | loaded tool config\n",
      "DEBUG | strands.tools.registry | tool_name=<search_activities> | loaded tool config\n",
      "DEBUG | strands.tools.registry | tool_name=<search_restaurants> | loaded tool config\n",
      "DEBUG | strands.tools.registry | tool_name=<get_weather_forecast> | loaded tool config\n",
      "DEBUG | strands.tools.registry | tool_count=<7> | tools configured\n",
      "DEBUG | strands.tools.registry | getting tool configurations\n",
      "DEBUG | strands.tools.registry | tool_name=<remember_preference> | loaded tool config\n",
      "DEBUG | strands.tools.registry | tool_name=<search_destination> | loaded tool config\n",
      "DEBUG | strands.tools.registry | tool_name=<search_flights> | loaded tool config\n",
      "DEBUG | strands.tools.registry | tool_name=<search_hotels> | loaded tool config\n",
      "DEBUG | strands.tools.registry | tool_name=<search_activities> | loaded tool config\n",
      "DEBUG | strands.tools.registry | tool_name=<search_restaurants> | loaded tool config\n",
      "DEBUG | strands.tools.registry | tool_name=<get_weather_forecast> | loaded tool config\n",
      "DEBUG | strands.tools.registry | tool_count=<7> | tools configured\n",
      "DEBUG | strands.event_loop.streaming | model=<<strands.models.bedrock.BedrockModel object at 0x7faa0d44fc80>> | streaming messages\n",
      "DEBUG | strands.types.models.model | formatting request\n",
      "DEBUG | strands.types.models.model | invoking model\n",
      "DEBUG | strands.types.models.model | got response from model\n"
     ]
    },
    {
     "name": "stdout",
     "output_type": "stream",
     "text": [
      "I'd be happy to remember your dietary preference. This information will help me provide more tailored travel recommendations for restaurants and food experiences in the future.\n",
      "Tool #23: remember_preference\n"
     ]
    },
    {
     "name": "stderr",
     "output_type": "stream",
     "text": [
      "DEBUG | strands.types.models.model | finished streaming response from model\n",
      "DEBUG | strands.tools.executor | tool_count=<1>, tool_executor=<ThreadPoolExecutorWrapper> | executing tools in parallel\n",
      "DEBUG | strands.tools.executor | tool_count=<1> | submitted tasks to parallel executor\n",
      "DEBUG | strands.handlers.tool_handler | tool=<{'toolUseId': 'tooluse_JSlOgdIkRUmXTZIveHDcMw', 'name': 'remember_preference', 'input': {'category': 'food', 'preference': 'vegetarian'}}> | invoking\n",
      "DEBUG | strands.event_loop.streaming | model=<<strands.models.bedrock.BedrockModel object at 0x7faa0d44fc80>> | streaming messages\n",
      "DEBUG | strands.types.models.model | formatting request\n",
      "DEBUG | strands.types.models.model | invoking model\n",
      "DEBUG | strands.types.models.model | got response from model\n"
     ]
    },
    {
     "name": "stdout",
     "output_type": "stream",
     "text": [
      "Thank you for sharing that you're vegetarian. I've saved this preference in your profile, which will help me make more appropriate dining recommendations during your future trip planning.\n",
      "\n",
      "When recommending restaurants or food experiences, I'll prioritize places"
     ]
    },
    {
     "name": "stderr",
     "output_type": "stream",
     "text": [
      "DEBUG | strands.types.models.model | finished streaming response from model\n",
      "DEBUG | strands.agent.conversation_manager.sliding_window_conversation_manager | window_size=<4>, message_count=<40> | skipping context reduction\n"
     ]
    },
    {
     "name": "stdout",
     "output_type": "stream",
     "text": [
      " with good vegetarian options. If you have any other dietary preferences or restrictions you'd like me to know about, or if you have specific questions about vegetarian dining in particular destinations, please feel free to ask!"
     ]
    },
    {
     "data": {
      "text/plain": [
       "AgentResult(stop_reason='end_turn', message={'role': 'assistant', 'content': [{'text': \"Thank you for sharing that you're vegetarian. I've saved this preference in your profile, which will help me make more appropriate dining recommendations during your future trip planning.\\n\\nWhen recommending restaurants or food experiences, I'll prioritize places with good vegetarian options. If you have any other dietary preferences or restrictions you'd like me to know about, or if you have specific questions about vegetarian dining in particular destinations, please feel free to ask!\"}]}, metrics=EventLoopMetrics(cycle_count=2, tool_metrics={'remember_preference': ToolMetrics(tool={'toolUseId': 'tooluse_JSlOgdIkRUmXTZIveHDcMw', 'name': 'remember_preference', 'input': {'category': 'food', 'preference': 'vegetarian'}}, call_count=1, success_count=1, error_count=0, total_time=0.0024728775024414062)}, cycle_durations=[3.369424343109131], traces=[<strands.telemetry.metrics.Trace object at 0x7faa00329d90>, <strands.telemetry.metrics.Trace object at 0x7faa0d2a2ff0>], accumulated_usage={'inputTokens': 3635, 'outputTokens': 174, 'totalTokens': 3809}, accumulated_metrics={'latencyMs': 6972}), state={})"
      ]
     },
     "execution_count": 42,
     "metadata": {},
     "output_type": "execute_result"
    },
    {
     "name": "stderr",
     "output_type": "stream",
     "text": [
      "DEBUG | strands.handlers.tool_handler | tool=<{'toolUseId': 'tooluse_J8C_bMhpSOiyBhdfQq-5Qw', 'name': 'search_restaurants', 'input': {'destination': 'New York City'}}> | invoking\n"
     ]
    }
   ],
   "source": [
    "# Test the memory system by setting a preference\n",
    "print(\"=== Testing Memory System ===\")\n",
    "print(\"Setting dietary preference...\")\n",
    "travel_agent_with_memory(\"I'm vegetarian\")"
   ]
  },
  {
   "cell_type": "code",
   "execution_count": null,
   "id": "73b6b006-30d0-4854-9a68-68138286d0ba",
   "metadata": {},
   "outputs": [
    {
     "name": "stderr",
     "output_type": "stream",
     "text": [
      "DEBUG | strands.tools.registry | getting tool configurations\n",
      "DEBUG | strands.tools.registry | tool_name=<remember_preference> | loaded tool config\n",
      "DEBUG | strands.tools.registry | tool_name=<search_destination> | loaded tool config\n",
      "DEBUG | strands.tools.registry | tool_name=<search_flights> | loaded tool config\n",
      "DEBUG | strands.tools.registry | tool_name=<search_hotels> | loaded tool config\n",
      "DEBUG | strands.tools.registry | tool_name=<search_activities> | loaded tool config\n",
      "DEBUG | strands.tools.registry | tool_name=<search_restaurants> | loaded tool config\n",
      "DEBUG | strands.tools.registry | tool_name=<get_weather_forecast> | loaded tool config\n",
      "DEBUG | strands.tools.registry | tool_count=<7> | tools configured\n",
      "DEBUG | strands.tools.registry | getting tool configurations\n",
      "DEBUG | strands.tools.registry | tool_name=<remember_preference> | loaded tool config\n",
      "DEBUG | strands.tools.registry | tool_name=<search_destination> | loaded tool config\n",
      "DEBUG | strands.tools.registry | tool_name=<search_flights> | loaded tool config\n",
      "DEBUG | strands.tools.registry | tool_name=<search_hotels> | loaded tool config\n",
      "DEBUG | strands.tools.registry | tool_name=<search_activities> | loaded tool config\n",
      "DEBUG | strands.tools.registry | tool_name=<search_restaurants> | loaded tool config\n",
      "DEBUG | strands.tools.registry | tool_name=<get_weather_forecast> | loaded tool config\n",
      "DEBUG | strands.tools.registry | tool_count=<7> | tools configured\n",
      "DEBUG | strands.event_loop.streaming | model=<<strands.models.bedrock.BedrockModel object at 0x7faa0d44fc80>> | streaming messages\n",
      "DEBUG | strands.types.models.model | formatting request\n",
      "DEBUG | strands.types.models.model | invoking model\n",
      "DEBUG | strands.types.models.model | got response from model\n"
     ]
    },
    {
     "name": "stdout",
     "output_type": "stream",
     "text": [
      "I'd be happy to recommend vegetarian-friendly restaurants in New York City based on your dietary preference. Let me search for some great options for you.\n",
      "Tool #24: search_restaurants\n"
     ]
    },
    {
     "name": "stderr",
     "output_type": "stream",
     "text": [
      "DEBUG | strands.types.models.model | finished streaming response from model\n",
      "DEBUG | strands.tools.executor | tool_count=<1>, tool_executor=<ThreadPoolExecutorWrapper> | executing tools in parallel\n",
      "DEBUG | strands.tools.executor | tool_count=<1> | submitted tasks to parallel executor\n",
      "DEBUG | strands.event_loop.streaming | model=<<strands.models.bedrock.BedrockModel object at 0x7faa0d44fc80>> | streaming messages\n",
      "DEBUG | strands.types.models.model | formatting request\n",
      "DEBUG | strands.types.models.model | invoking model\n",
      "DEBUG | strands.types.models.model | got response from model\n"
     ]
    },
    {
     "name": "stdout",
     "output_type": "stream",
     "text": [
      "Based on your vegetarian preference, I've researched restaurants in New York City that offer great vegetarian options. Here are some top recommendations:\n",
      "\n",
      "# Best Vegetarian-Friendly Restaurants in New York City\n",
      "\n",
      "## Gramercy Tavern\n",
      "This renowned New American restaurant offers excellent vegetarian options as part of their menu. They specifically list \"Vegetarian options\" among their offerings, and their farm-to-table approach means fresh, seasonal vegetable dishes are often highlights. Located at 42 E 20th St, they're open daily until 10:30 PM.\n",
      "\n",
      "## Manhatta\n",
      "Located on the 60th floor with stunning city views, Manhatta includes vegetarian options among their New American cuisine. The restaurant has earned a 4.7/5 rating from reviewers and offers an upscale dining experience with vegetarian dishes that don't feel like an afterthought.\n",
      "\n",
      "## Via Carota\n",
      "This rustic Italian trattoria in the West Village specifically lists vegetarian options among their offerings. Known for their seasonal Italian cuisine, many of their pasta and vegetable dishes are perfect for vegetarians. Located at 51 Grove St, they're open until 11 PM daily.\n",
      "\n",
      "## Buvette\n",
      "This French-style café on Grove St offers numerous vegetarian small plates and has earned a reputation for great coffee and wine as well. Their cozy atmosphere makes it perfect for breakfast, lunch or dinner, and they're open from 8 AM until midnight daily.\n",
      "\n",
      "## OLIO E PIÙ\n",
      "This Italian restaurant offers Neapolitan pizza and pasta with vegetarian options clearly marked. Their outdoor seating area is particularly lovely, and they're open late (until midnight) every day at 3 Greenwich Ave.\n",
      "\n",
      "## 1803 NYC\n",
      "This Cajun restaurant specifically lists both vegetarian and vegan options. While Cajun food is often meat-heavy, they've made sure to create flavorful plant-based dishes that capture the essence of New Orleans cuisine.\n",
      "\n",
      "Most of these restaurants recommend reservations, especially for dinner. Many also offer outdoor seating options and delivery if you prefer to enjoy their food at home.\n",
      "\n",
      "Would you like more specific information about any of these restaurants, or would you like me to suggest more restaurants with notable vegetarian menus in specific neighborhoods of NYC"
     ]
    },
    {
     "name": "stderr",
     "output_type": "stream",
     "text": [
      "DEBUG | strands.types.models.model | finished streaming response from model\n",
      "DEBUG | strands.agent.conversation_manager.sliding_window_conversation_manager | window_size=<8>, message_count=<40> | skipping context reduction\n"
     ]
    },
    {
     "name": "stdout",
     "output_type": "stream",
     "text": [
      "?"
     ]
    },
    {
     "data": {
      "text/plain": [
       "AgentResult(stop_reason='end_turn', message={'role': 'assistant', 'content': [{'text': 'Based on your vegetarian preference, I\\'ve researched restaurants in New York City that offer great vegetarian options. Here are some top recommendations:\\n\\n# Best Vegetarian-Friendly Restaurants in New York City\\n\\n## Gramercy Tavern\\nThis renowned New American restaurant offers excellent vegetarian options as part of their menu. They specifically list \"Vegetarian options\" among their offerings, and their farm-to-table approach means fresh, seasonal vegetable dishes are often highlights. Located at 42 E 20th St, they\\'re open daily until 10:30 PM.\\n\\n## Manhatta\\nLocated on the 60th floor with stunning city views, Manhatta includes vegetarian options among their New American cuisine. The restaurant has earned a 4.7/5 rating from reviewers and offers an upscale dining experience with vegetarian dishes that don\\'t feel like an afterthought.\\n\\n## Via Carota\\nThis rustic Italian trattoria in the West Village specifically lists vegetarian options among their offerings. Known for their seasonal Italian cuisine, many of their pasta and vegetable dishes are perfect for vegetarians. Located at 51 Grove St, they\\'re open until 11 PM daily.\\n\\n## Buvette\\nThis French-style café on Grove St offers numerous vegetarian small plates and has earned a reputation for great coffee and wine as well. Their cozy atmosphere makes it perfect for breakfast, lunch or dinner, and they\\'re open from 8 AM until midnight daily.\\n\\n## OLIO E PIÙ\\nThis Italian restaurant offers Neapolitan pizza and pasta with vegetarian options clearly marked. Their outdoor seating area is particularly lovely, and they\\'re open late (until midnight) every day at 3 Greenwich Ave.\\n\\n## 1803 NYC\\nThis Cajun restaurant specifically lists both vegetarian and vegan options. While Cajun food is often meat-heavy, they\\'ve made sure to create flavorful plant-based dishes that capture the essence of New Orleans cuisine.\\n\\nMost of these restaurants recommend reservations, especially for dinner. Many also offer outdoor seating options and delivery if you prefer to enjoy their food at home.\\n\\nWould you like more specific information about any of these restaurants, or would you like me to suggest more restaurants with notable vegetarian menus in specific neighborhoods of NYC?'}]}, metrics=EventLoopMetrics(cycle_count=4, tool_metrics={'remember_preference': ToolMetrics(tool={'toolUseId': 'tooluse_JSlOgdIkRUmXTZIveHDcMw', 'name': 'remember_preference', 'input': {'category': 'food', 'preference': 'vegetarian'}}, call_count=1, success_count=1, error_count=0, total_time=0.0024728775024414062), 'search_restaurants': ToolMetrics(tool={'toolUseId': 'tooluse_J8C_bMhpSOiyBhdfQq-5Qw', 'name': 'search_restaurants', 'input': {'destination': 'New York City'}}, call_count=1, success_count=1, error_count=0, total_time=3.3616671562194824)}, cycle_durations=[3.369424343109131, 28.387991189956665], traces=[<strands.telemetry.metrics.Trace object at 0x7faa00329d90>, <strands.telemetry.metrics.Trace object at 0x7faa0d2a2ff0>, <strands.telemetry.metrics.Trace object at 0x7faa0d2a06b0>, <strands.telemetry.metrics.Trace object at 0x7faa0dc16570>], accumulated_usage={'inputTokens': 43280, 'outputTokens': 743, 'totalTokens': 44023}, accumulated_metrics={'latencyMs': 40656}), state={})"
      ]
     },
     "execution_count": 43,
     "metadata": {},
     "output_type": "execute_result"
    }
   ],
   "source": [
    "# Now test if the agent remembers this preference in a follow-up query\n",
    "print(\"Testing if preference is remembered...\")\n",
    "travel_agent_with_memory(\"Recommend restaurants in New York City\")"
   ]
  },
  {
   "cell_type": "markdown",
   "id": "c7bfbe54-a3fd-4b55-b11f-537b1763d0ee",
   "metadata": {
    "pycharm": {
     "name": "#%% md\n"
    }
   },
   "source": [
    "## Conclusion\n",
    "\n",
    "You've now learned how to build a travel planning agent using StrandsAgents and Amazon Bedrock. This agent can:\n",
    "\n",
    "- Search for destinations, flights, hotels, and activities in real-time\n",
    "- Create detailed itineraries based on user preferences\n",
    "- Manage budgets and provide cost breakdowns\n",
    "- Use multiple specialized agents for complex tasks\n",
    "- Stream responses for better user experience\n",
    "\n",
    "StrandsAgents makes it remarkably simple to build sophisticated AI agents that can handle complex, multi-step tasks.\n",
    "\n",
    "## Resources\n",
    "\n",
    "- [StrandsAgents Documentation](https://strandsagents.com/)\n",
    "- [StrandsAgents GitHub](https://github.com/strands-agents)\n",
    "- [Amazon Bedrock Documentation](https://aws.amazon.com/bedrock/)\n",
    "- [SerpApi Documentation](https://serpapi.com/)\n",
    "\n",
    "Happy travels and happy coding! 🌍✈️"
   ]
  },
  {
   "cell_type": "code",
   "execution_count": null,
   "id": "2286ffd4-a10e-4841-b3cd-86c4a937c6c9",
   "metadata": {},
   "outputs": [],
   "source": []
  }
 ],
 "metadata": {
  "kernelspec": {
   "display_name": "Python 3 (ipykernel)",
   "language": "python",
   "name": "python3"
  },
  "language_info": {
   "codemirror_mode": {
    "name": "ipython",
    "version": 3
   },
   "file_extension": ".py",
   "mimetype": "text/x-python",
   "name": "python",
   "nbconvert_exporter": "python",
   "pygments_lexer": "ipython3",
   "version": "3.12.9"
  }
 },
 "nbformat": 4,
 "nbformat_minor": 5
}
