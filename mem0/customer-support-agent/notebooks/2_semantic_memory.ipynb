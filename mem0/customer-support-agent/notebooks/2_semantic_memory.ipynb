{
 "cells": [
  {
   "cell_type": "markdown",
   "id": "ptmehhzkf1m",
   "metadata": {},
   "source": [
    "# Semantic Memory in Customer Support: Insurance Domain Demo\n",
    "\n",
    "This notebook demonstrates how **Semantic Memory** can be used in customer support agents to learn and apply domain knowledge across different customer interactions.\n",
    "\n",
    "## Core Concept: Knowledge Emerges from Conversations\n",
    "\n",
    "Unlike traditional knowledge bases that require manual curation, semantic memory automatically extracts and stores general concepts, principles, and domain expertise from real customer conversations. When a new customer asks about a similar topic, the agent can apply this learned knowledge to provide accurate, consistent responses.\n",
    "\n",
    "**Key Benefits:**\n",
    "- **Cross-Customer Learning**: Knowledge from one interaction helps all future customers\n",
    "- **Consistent Expertise**: All agents apply the same domain principles  \n",
    "- **Automatic Knowledge Building**: No manual knowledge base maintenance required\n",
    "- **Conceptual Understanding**: Agents understand underlying principles, not just specific cases\n",
    "\n",
    "This demo shows how an insurance support agent learns tree damage liability principles from one conversation and applies them to help different customers with similar scenarios."
   ]
  },
  {
   "cell_type": "markdown",
   "id": "zt0xpi86m7",
   "metadata": {},
   "source": [
    "## Dependencies and Setup\n",
    "\n",
    "We'll use several key libraries to build our semantic memory system:\n",
    "\n",
    "- **Mem0**: The core memory platform that automatically extracts and stores semantic knowledge from conversations\n",
    "- **LangGraph**: Creates stateful workflows that can retrieve, process, and store memory\n",
    "- **LangChain AWS**: Provides the LLM interface for generating responses\n",
    "\n",
    "\n",
    "The beauty of semantic memory is that it works automatically - Mem0 analyzes conversations and extracts general principles without requiring manual knowledge base creation."
   ]
  },
  {
   "cell_type": "code",
   "execution_count": null,
   "id": "3ad971d7",
   "metadata": {},
   "outputs": [],
   "source": [
    "!pip install langgraph langchain-aws mem0ai"
   ]
  },
  {
   "cell_type": "code",
   "execution_count": 16,
   "id": "0819639f",
   "metadata": {},
   "outputs": [],
   "source": [
    "import asyncio\n",
    "from typing import Dict, List, Any, TypedDict\n",
    "import json\n",
    "from langgraph.graph import StateGraph, END\n",
    "from langgraph.checkpoint.memory import MemorySaver\n",
    "from langchain_aws import ChatBedrockConverse\n",
    "from mem0 import MemoryClient\n",
    "import os"
   ]
  },
  {
   "cell_type": "markdown",
   "id": "me9i1uzbfmi",
   "metadata": {},
   "source": [
    "## Memory Client Initialization\n",
    "\n",
    "The `MemoryClient` is the gateway to our semantic memory system. It handles:\n",
    "\n",
    "- **Automatic Knowledge Extraction**: Analyzes conversations and identifies key concepts, patterns, and domain principles\n",
    "- **Cross-Agent Memory Sharing**: Uses `agent_id` to create shared knowledge pools across all support interactions\n",
    "- **Intelligent Search**: Retrieves relevant semantic knowledge based on query similarity and context\n",
    "\n",
    "By using a shared `agent_id` (like \"insurance_semantic_agent\"), all conversations contribute to a collective knowledge base that every support interaction can benefit from."
   ]
  },
  {
   "cell_type": "code",
   "execution_count": 3,
   "id": "0c993d36",
   "metadata": {},
   "outputs": [],
   "source": [
    "import os\n",
    "import getpass\n",
    "\n",
    "def _set_env(var: str):\n",
    "    if not os.environ.get(var):\n",
    "        os.environ[var] = getpass.getpass(f\"{var}: \")\n",
    "\n",
    "\n",
    "_set_env(\"MEM0_API_KEY\")"
   ]
  },
  {
   "cell_type": "code",
   "execution_count": 4,
   "id": "602045b5",
   "metadata": {},
   "outputs": [],
   "source": [
    "import os\n",
    "from mem0 import MemoryClient\n",
    "\n",
    "memory_client = MemoryClient()"
   ]
  },
  {
   "cell_type": "markdown",
   "id": "78im7s6tmpm",
   "metadata": {},
   "source": [
    "## Language Model Configuration\n",
    "\n",
    "We configure Claude 3.5 Haiku through AWS Bedrock for our insurance support agent. This LLM will be used to analyze customer queries and generate responses based on the combined knowledge from semantic memory and the current interaction."
   ]
  },
  {
   "cell_type": "code",
   "execution_count": 6,
   "id": "72c2b128",
   "metadata": {},
   "outputs": [],
   "source": [
    "llm = ChatBedrockConverse(\n",
    "    model_id=\"us.anthropic.claude-3-5-haiku-20241022-v1:0\",\n",
    "    temperature=0.1,\n",
    ")"
   ]
  },
  {
   "cell_type": "markdown",
   "id": "srrd548xfbh",
   "metadata": {},
   "source": [
    "## State Management\n",
    "\n",
    "The `SupportState` represents our conversation's working memory - the information that flows between different processing steps:\n",
    "\n",
    "- **customer_id**: Identifies the current customer (though semantic memory is shared across all customers)\n",
    "- **customer_query**: The current question or problem to solve\n",
    "- **semantic_knowledge**: Retrieved domain expertise from past conversations \n",
    "- **support_response**: The final AI-generated response\n",
    "\n",
    "This simplified state focuses purely on semantic memory - demonstrating how general domain knowledge enhances every customer interaction, regardless of their personal history."
   ]
  },
  {
   "cell_type": "code",
   "execution_count": 7,
   "id": "e97ba8c6",
   "metadata": {},
   "outputs": [],
   "source": [
    "class SupportState(TypedDict):\n",
    "    \"\"\"Simplified state for semantic memory demo\"\"\"\n",
    "    customer_id: str\n",
    "    customer_query: str\n",
    "    semantic_knowledge: List[Dict[str, Any]]\n",
    "    support_response: str"
   ]
  },
  {
   "cell_type": "markdown",
   "id": "0ka2v1beskp",
   "metadata": {},
   "source": [
    "## Semantic Knowledge Retrieval\n",
    "\n",
    "This is where the magic happens - we search our semantic memory for relevant domain knowledge:\n",
    "\n",
    "**Key Insight**: Using a shared `agent_id` means all insurance support conversations contribute to one collective knowledge base. When Customer A teaches the system about \"Acts of God\" in tree damage, Customer B automatically benefits from this knowledge.\n",
    "\n",
    "The retrieved memories aren't exact conversation matches - they're extracted principles and concepts that apply broadly across similar situations."
   ]
  },
  {
   "cell_type": "code",
   "execution_count": 8,
   "id": "9755b931",
   "metadata": {},
   "outputs": [],
   "source": [
    "async def retrieve_semantic_knowledge(state: SupportState) -> SupportState:\n",
    "    \"\"\"Retrieve relevant semantic (general) knowledge about insurance concepts\"\"\"\n",
    "    \n",
    "    # Search for general insurance knowledge related to the query\n",
    "    semantic_memories = memory_client.search(\n",
    "        query=state[\"customer_query\"],\n",
    "        agent_id=\"insurance_semantic_agent\",\n",
    "        limit=5\n",
    "    )\n",
    "    \n",
    "    state[\"semantic_knowledge\"] = semantic_memories\n",
    "    return state"
   ]
  },
  {
   "cell_type": "markdown",
   "id": "ldv1x525z87",
   "metadata": {},
   "source": [
    "## Response Generation with Semantic Memory\n",
    "\n",
    "Here's where domain expertise meets customer questions. The process combines:\n",
    "\n",
    "**Input Integration:**\n",
    "- Customer's specific question\n",
    "- Retrieved semantic knowledge from past conversations\n",
    "- General insurance principles learned over time\n",
    "\n",
    "This demonstrates how AI agents evolve from basic chatbots to knowledgeable specialists through semantic learning."
   ]
  },
  {
   "cell_type": "code",
   "execution_count": 9,
   "id": "1106c5ed",
   "metadata": {},
   "outputs": [],
   "source": [
    "async def generate_response(state: SupportState) -> SupportState:\n",
    "    \"\"\"Generate response using semantic knowledge\"\"\"\n",
    "    \n",
    "    # Extract semantic insights\n",
    "    semantic_insights = []\n",
    "    for memory in state[\"semantic_knowledge\"]:\n",
    "        content = memory.get('memory', '')\n",
    "        if content:\n",
    "            semantic_insights.append(content)\n",
    "    \n",
    "    semantic_context = \"\\n\".join(semantic_insights) if semantic_insights else \"No relevant insurance knowledge found\"\n",
    "\n",
    "    print(\"Semantic Context:\", semantic_context)\n",
    "    \n",
    "    # Generate response using semantic knowledge\n",
    "    prompt = f\"\"\"\n",
    "You are an insurance support agent. Use the general insurance knowledge to answer the customer's question.\n",
    "\n",
    "Customer Question: {state[\"customer_query\"]}\n",
    "\n",
    "Relevant Insurance Knowledge:\n",
    "{semantic_context}\n",
    "\n",
    "Provide a helpful response that applies the general insurance principles to answer their specific question.\n",
    "If the semantic knowledge is relevant, explain the concepts clearly.\n",
    "\"\"\"\n",
    "\n",
    "    response = await llm.ainvoke(prompt)\n",
    "    state[\"support_response\"] = response.content.strip()\n",
    "    \n",
    "    return state"
   ]
  },
  {
   "cell_type": "markdown",
   "id": "xu4piixtz7p",
   "metadata": {},
   "source": [
    "## Response Generation WITHOUT Memory (Baseline Comparison)\n",
    "\n",
    "This function simulates a basic AI agent without access to semantic memory - essentially what most chatbots are today:\n",
    "\n",
    "**Limitations:**\n",
    "- **No Domain Expertise**: Can only rely on general training data\n",
    "- **Inconsistent Responses**: May give different answers to similar questions\n",
    "- **Generic Guidance**: Cannot provide specific insurance principles or industry knowledge\n",
    "- **No Learning**: Each conversation starts from scratch\n"
   ]
  },
  {
   "cell_type": "code",
   "execution_count": 10,
   "id": "97f67373",
   "metadata": {},
   "outputs": [],
   "source": [
    "async def generate_response_without_memory(query: str) -> str:\n",
    "    \"\"\"Generate response WITHOUT semantic memory - simulating a basic agent\"\"\"\n",
    "    \n",
    "    prompt = f\"\"\"\n",
    "You are an insurance support agent. Answer the customer's question based only on general common sense.\n",
    "You do NOT have access to specific insurance knowledge or precedents.\n",
    "\n",
    "Customer Question: {query}\n",
    "\n",
    "Provide your best guess answer, but you cannot reference specific insurance rules or concepts you're not certain about.\n",
    "\"\"\"\n",
    "\n",
    "    response = await llm.ainvoke(prompt)\n",
    "    return response.content.strip()"
   ]
  },
  {
   "cell_type": "markdown",
   "id": "k8mhw0c9uoa",
   "metadata": {},
   "source": [
    "## Continuous Learning: Storing New Knowledge\n",
    "\n",
    "This function demonstrates how semantic memory systems continuously improve by learning from every interaction:\n",
    "\n",
    "**The Compound Effect:**\n",
    "Each customer interaction makes the entire system smarter. The 100th customer benefits from insights learned from the first 99 conversations, creating increasingly sophisticated and helpful responses."
   ]
  },
  {
   "cell_type": "code",
   "execution_count": 17,
   "id": "4cca7a27",
   "metadata": {},
   "outputs": [],
   "source": [
    "async def store_new_knowledge(state: SupportState) -> SupportState:\n",
    "    \"\"\"Store new semantic knowledge from this interaction\"\"\"\n",
    "    \n",
    "    # Store the Q&A as potential semantic knowledge\n",
    "    interaction = f\"Q: {state['customer_query']} A: {state['support_response']}\"\n",
    "    \n",
    "    memory_client.add(\n",
    "        messages=[{\"role\": \"assistant\", \"content\": interaction}],\n",
    "        agent_id=\"insurance_semantic_agent\",\n",
    "        metadata={\n",
    "            \"type\": \"semantic_knowledge\",\n",
    "        }\n",
    "    )\n",
    "    \n",
    "    return state"
   ]
  },
  {
   "cell_type": "markdown",
   "id": "jy78r5kus1",
   "metadata": {},
   "source": [
    "## Workflow Orchestration: Bringing It All Together\n",
    "\n",
    "The `StateGraph` orchestrates our semantic memory workflow, creating a systematic process for handling customer queries:\n",
    "\n",
    "**The Workflow Steps:**\n",
    "1. **Retrieve Semantic Knowledge**: Search accumulated domain expertise\n",
    "2. **Generate Response**: Combine customer query with relevant knowledge  \n",
    "3. **Store New Knowledge**: Learn from this interaction for future use"
   ]
  },
  {
   "cell_type": "code",
   "execution_count": 18,
   "id": "09b022bd",
   "metadata": {},
   "outputs": [],
   "source": [
    "def create_semantic_workflow() -> StateGraph:\n",
    "    \"\"\"Create simplified workflow for semantic memory demo\"\"\"\n",
    "    \n",
    "    workflow = StateGraph(SupportState)\n",
    "    \n",
    "    # Add nodes\n",
    "    workflow.add_node(\"retrieve_semantic_knowledge\", retrieve_semantic_knowledge)\n",
    "    workflow.add_node(\"generate_response\", generate_response)\n",
    "    workflow.add_node(\"store_new_knowledge\", store_new_knowledge)\n",
    "    \n",
    "    # Define flow\n",
    "    workflow.set_entry_point(\"retrieve_semantic_knowledge\")\n",
    "    workflow.add_edge(\"retrieve_semantic_knowledge\", \"generate_response\")\n",
    "    workflow.add_edge(\"generate_response\", \"store_new_knowledge\")\n",
    "    workflow.add_edge(\"store_new_knowledge\", END)\n",
    "    \n",
    "    # Compile\n",
    "    memory_saver = MemorySaver()\n",
    "    return workflow.compile(checkpointer=memory_saver)"
   ]
  },
  {
   "cell_type": "markdown",
   "id": "cfsnxvdrgy",
   "metadata": {},
   "source": [
    "## Workflow Compilation\n",
    "\n",
    "The workflow is now compiled and ready to handle customer queries. The `MemorySaver` checkpointer ensures that conversation states are maintained across interactions, enabling stateful processing of customer requests."
   ]
  },
  {
   "cell_type": "code",
   "execution_count": 19,
   "id": "a6ce0b6a",
   "metadata": {},
   "outputs": [],
   "source": [
    "graph = create_semantic_workflow()"
   ]
  },
  {
   "cell_type": "markdown",
   "id": "4l2xgchsdpg",
   "metadata": {},
   "source": [
    "## Storing sample conversations for the demo\n",
    "\n",
    "This function stores our first training conversation - a detailed discussion about tree damage liability that will become the foundation of our insurance knowledge base.\n",
    "\n",
    "**Key Concepts That Will Be Extracted:**\n",
    "- Acts of God principles for natural events\n",
    "- Property coverage vs. liability coverage distinctions  \n",
    "- Negligence requirements and documentation\n",
    "- Tree damage liability rules\n",
    "\n",
    "Once stored, Mem0 will automatically extract these principles and make them available for future customer interactions, even with completely different scenarios."
   ]
  },
  {
   "cell_type": "code",
   "execution_count": 12,
   "id": "ecfdfd7c",
   "metadata": {},
   "outputs": [],
   "source": [
    "def store_semantic_conversations():\n",
    "    \"\"\"Store the semantic memory examples from earlier\"\"\"\n",
    "    \n",
    "    # First conversation - Learning about tree damage and liability\n",
    "    conversation1 = {\n",
    "        \"conversation_id\": \"SEM-001\",\n",
    "        \"customer_id\": \"CUST-23456\",\n",
    "        \"metadata\": {\n",
    "            \"type\": \"coverage_education\",\n",
    "            \"insurance_type\": \"home\"\n",
    "        },\n",
    "        \"conversation\": [\n",
    "            {\n",
    "                \"role\": \"user\",\n",
    "                \"content\": \"My neighbor's tree looks diseased and is leaning toward my house. If it falls and damages my roof, whose insurance covers it?\"\n",
    "            },\n",
    "            {\n",
    "                \"role\": \"assistant\",\n",
    "                \"content\": \"Great question! This is a common concern. If the tree falls due to natural causes like wind, disease, or storms, YOUR homeowner's insurance would cover the damage to your house, regardless of whose tree it is. This falls under your property coverage with your deductible applying.\"\n",
    "            },\n",
    "            {\n",
    "                \"role\": \"user\",\n",
    "                \"content\": \"Really? Even though it's their tree? That doesn't seem fair.\"\n",
    "            },\n",
    "            {\n",
    "                \"role\": \"assistant\",\n",
    "                \"content\": \"I understand it seems counterintuitive, but this is standard across all insurance companies. It's based on the legal principle that acts of nature are 'Acts of God' - no one's at fault. However, there's an important exception: if you formally notify your neighbor in writing that their tree is dangerous and they ignore it, then they could be liable for negligence.\"\n",
    "            },\n",
    "            {\n",
    "                \"role\": \"user\",\n",
    "                \"content\": \"So I should document this? What exactly should I do?\"\n",
    "            },\n",
    "            {\n",
    "                \"role\": \"assistant\",\n",
    "                \"content\": \"Yes! Take photos of the diseased tree, especially showing the lean toward your property. Send your neighbor a certified letter describing the hazard. Keep copies of everything. If they don't act and the tree later falls, their liability insurance would likely cover your damage instead. This documentation shifts it from an 'Act of God' to negligence.\"\n",
    "            },\n",
    "            {\n",
    "                \"role\": \"user\",\n",
    "                \"content\": \"That's really helpful. What's the difference between my property coverage and their liability coverage in this case?\"\n",
    "            },\n",
    "            {\n",
    "                \"role\": \"assistant\",\n",
    "                \"content\": \"Property coverage repairs physical damage to your structures - it's first-party coverage, meaning it covers YOUR property. Liability coverage is third-party - it pays when you're legally responsible for damage to OTHERS. Without proof of negligence, tree damage defaults to property coverage. With negligence, it becomes a liability issue for the tree owner.\"\n",
    "            }\n",
    "        ]\n",
    "    }\n",
    "    \n",
    "    # Store the conversation - mem0 will extract semantic insights\n",
    "    memory_client.add(\n",
    "        messages=conversation1[\"conversation\"],\n",
    "        user_id=conversation1[\"customer_id\"],\n",
    "        agent_id=\"insurance_semantic_agent\",\n",
    "        metadata=conversation1[\"metadata\"]\n",
    "    )"
   ]
  },
  {
   "cell_type": "code",
   "execution_count": null,
   "id": "169d791a",
   "metadata": {},
   "outputs": [],
   "source": [
    "# store_semantic_conversations()"
   ]
  },
  {
   "cell_type": "code",
   "execution_count": 14,
   "id": "a41ff05a",
   "metadata": {},
   "outputs": [],
   "source": [
    "async def handle_query(customer_id: str, query: str) -> Dict[str, Any]:\n",
    "    \"\"\"Process a customer query using semantic memory\"\"\"\n",
    "    \n",
    "    initial_state = SupportState(\n",
    "        customer_id=customer_id,\n",
    "        customer_query=query,\n",
    "        semantic_knowledge=[],\n",
    "        support_response=\"\"\n",
    "    )\n",
    "    \n",
    "    config = {\"configurable\": {\"thread_id\": f\"semantic_{customer_id}\"}}\n",
    "    result = await graph.ainvoke(initial_state, config)\n",
    "    \n",
    "    return {\n",
    "        \"query\": query,\n",
    "        \"response\": result[\"support_response\"],\n",
    "        \"semantic_knowledge_used\": len(result[\"semantic_knowledge\"])\n",
    "    }"
   ]
  },
  {
   "cell_type": "markdown",
   "id": "db376a0b",
   "metadata": {},
   "source": [
    "## It's time put this agent to the test"
   ]
  },
  {
   "cell_type": "code",
   "execution_count": 21,
   "id": "1dd5387e",
   "metadata": {},
   "outputs": [
    {
     "name": "stdout",
     "output_type": "stream",
     "text": [
      "\n",
      "❌ WITHOUT SEMANTIC MEMORY (Basic Agent):\n",
      "------------------------------------------------------------\n",
      "Customer: A storm knocked my neighbor's tree onto my garage. They say it's my insurance problem. Who's right and why?\n",
      "\n",
      "Agent: Based on common sense, this seems like a situation where your neighbor might not be entirely correct. If the tree fell due to a natural storm and wasn't something your neighbor could have prevented, it seems like this could be more of an \"act of nature\" scenario. \n",
      "\n",
      "My general reasoning would be:\n",
      "- The storm caused the damage, not your neighbor's intentional actions\n",
      "- Trees can fall during severe weather through no one's fault\n",
      "- Your own insurance might be the most straightforward way to get repairs done quickly\n",
      "\n",
      "However, I'd recommend:\n",
      "1. Talking directly with your neighbor\n",
      "2. Checking with your insurance company\n",
      "3. Possibly getting an expert opinion about the tree's condition before the storm\n",
      "\n",
      "The key is to stay calm and collaborative, as these situations can sometimes create neighborhood tension if not handled diplomatically.\n",
      "\n",
      "Remember, this is just a common sense perspective, and specific insurance details might vary.\n",
      "\n",
      "⚠️  Notice: Vague response, no specific insurance knowledge, unhelpful\n"
     ]
    }
   ],
   "source": [
    "test_query1 = \"A storm knocked my neighbor's tree onto my garage. They say it's my insurance problem. Who's right and why?\"\n",
    "\n",
    "print(\"\\n❌ WITHOUT SEMANTIC MEMORY (Basic Agent):\")\n",
    "print(\"-\" * 60)\n",
    "response_without_memory1 = await generate_response_without_memory(test_query1)\n",
    "print(f\"Customer: {test_query1}\")\n",
    "print(f\"\\nAgent: {response_without_memory1}\")\n",
    "print(\"\\n⚠️  Notice: Vague response, no specific insurance knowledge, unhelpful\")\n"
   ]
  },
  {
   "cell_type": "code",
   "execution_count": 25,
   "id": "2d33eea5",
   "metadata": {},
   "outputs": [
    {
     "name": "stdout",
     "output_type": "stream",
     "text": [
      "\n",
      "✅ WITH SEMANTIC MEMORY (Knowledgeable Agent):\n",
      "------------------------------------------------------------\n",
      "Semantic Context: A tree falling due to a storm is considered an 'Act of God' and is covered by the homeowner's property insurance of the property owner where the damage occurred\n",
      "Acts of nature like wind, disease, or storms causing tree damage are considered 'Acts of God' and covered by the homeowner's property insurance\n",
      "If a neighbor's tree branches fall and damage your property, your homeowner's insurance will likely cover the damage under property damage coverage as a first-party claim\n",
      "If you provide written notice to your neighbor about hazardous tree branches and they fail to act, their liability insurance might be responsible for damages due to negligence\n",
      "Neighbor is not automatically responsible for damage caused by a healthy tree falling in a storm without prior negligence\n",
      "Hail storm damage is considered an 'Act of God' and thus covered by property insurance\n",
      "Property damage coverage in homeowner's insurance covers damage to the insured's property caused by natural events, regardless of tree ownership.\n",
      "Liability insurance of the tree owner is only responsible if negligence is proven, such as ignoring written notice about a hazardous tree.\n",
      "Property coverage protects the policyholder's own property from natural events like storms and hail\n",
      "If the tree owner is negligent after being notified in writing, their liability insurance may cover the damage\n",
      "Customer: A storm knocked my neighbor's tree onto my garage. They say it's my insurance problem. Who's right and why?\n",
      "\n",
      "Agent: Based on the insurance principles, here's my professional response:\n",
      "\n",
      "In this situation, your neighbor is not automatically responsible for the tree damage to your garage. Since the tree fell during a storm, this is considered an \"Act of God\" - a natural event beyond anyone's control.\n",
      "\n",
      "Your own homeowner's insurance will typically cover the damage to your garage under your property damage coverage. This means you would file a claim with your insurance company to repair the garage, even though the tree originated from your neighbor's property.\n",
      "\n",
      "The key factors here are:\n",
      "1. The tree fell during a storm (natural event)\n",
      "2. There's no evidence of prior negligence by your neighbor\n",
      "3. The damage occurred on your property\n",
      "\n",
      "Your insurance will likely:\n",
      "- Cover the garage repair\n",
      "- Pay for removal of the fallen tree\n",
      "- Subtract your policy deductible from the total repair cost\n",
      "\n",
      "The only scenario where your neighbor might be liable is if:\n",
      "- They were previously notified in writing about the tree being hazardous\n",
      "- They failed to address a known risk\n",
      "- The tree was visibly diseased or unstable before the storm\n",
      "\n",
      "I recommend:\n",
      "- Contact your insurance company to file a claim\n",
      "- Document the damage with photos\n",
      "- Get repair estimates from contractors\n",
      "\n",
      "Would you like help understanding the next steps in the claims process?\n",
      "\n",
      "✨ Semantic knowledge pieces used: 10\n"
     ]
    }
   ],
   "source": [
    "print(\"\\n✅ WITH SEMANTIC MEMORY (Knowledgeable Agent):\")\n",
    "print(\"-\" * 60)\n",
    "result_with_memory1 = await handle_query(\n",
    "    customer_id=\"CUST-98765\",\n",
    "    query=test_query1\n",
    ")\n",
    "print(f\"Customer: {test_query1}\")\n",
    "print(f\"\\nAgent: {result_with_memory1['response']}\")\n",
    "print(f\"\\n✨ Semantic knowledge pieces used: {result_with_memory1['semantic_knowledge_used']}\")"
   ]
  },
  {
   "cell_type": "code",
   "execution_count": 26,
   "id": "bd610504",
   "metadata": {},
   "outputs": [
    {
     "name": "stdout",
     "output_type": "stream",
     "text": [
      "\n",
      "❌ WITHOUT SEMANTIC MEMORY (Basic Agent):\n",
      "------------------------------------------------------------\n",
      "Customer: What's the difference between property and liability coverage? I'm confused about which one covers what.\n",
      "\n",
      "Agent: Based on common sense, here's my understanding:\n",
      "\n",
      "Property coverage seems like it would protect the physical things you own - like your house, car, or personal belongings. So if something gets damaged or destroyed, this type of coverage might help you replace or repair those items.\n",
      "\n",
      "Liability coverage sounds like it's more about protecting you if you accidentally cause damage or injury to someone else. For example, if someone gets hurt on your property or if you accidentally damage someone else's stuff, liability coverage might help cover the costs of legal issues or compensation.\n",
      "\n",
      "Think of property coverage as protecting your own things, and liability coverage as protecting you from potential financial risks if you accidentally cause problems for others.\n",
      "\n",
      "But I want to be clear that this is just my general understanding, and for precise details, you'd want to speak directly with an insurance professional who can explain the specific terms and conditions.\n",
      "\n",
      "⚠️  Notice: Generic explanation, lacks precision and examples\n"
     ]
    }
   ],
   "source": [
    "test_query2 = \"What's the difference between property and liability coverage? I'm confused about which one covers what.\"\n",
    "\n",
    "print(\"\\n❌ WITHOUT SEMANTIC MEMORY (Basic Agent):\")\n",
    "print(\"-\" * 60)\n",
    "response_without_memory2 = await generate_response_without_memory(test_query2)\n",
    "print(f\"Customer: {test_query2}\")\n",
    "print(f\"\\nAgent: {response_without_memory2}\")\n",
    "print(\"\\n⚠️  Notice: Generic explanation, lacks precision and examples\")"
   ]
  },
  {
   "cell_type": "code",
   "execution_count": 27,
   "id": "c53cfe9f",
   "metadata": {},
   "outputs": [
    {
     "name": "stdout",
     "output_type": "stream",
     "text": [
      "\n",
      "\n",
      "✅ WITH SEMANTIC MEMORY (Knowledgeable Agent):\n",
      "------------------------------------------------------------\n",
      "Semantic Context: Liability coverage is third-party coverage and pays when you are legally responsible for damage to others\n",
      "Property damage coverage in homeowner's insurance covers damage to the insured's property caused by natural events, regardless of tree ownership.\n",
      "Property coverage repairs physical damage to your structures and is first-party coverage\n",
      "Hail damage to a roof is covered under property coverage, not liability coverage\n",
      "Property coverage protects the policyholder's own property from natural events like storms and hail\n",
      "The property owner typically pays the policy deductible, and the insurance company manages the rest of the claim process\n",
      "Homeowner's property damage coverage handles repair or replacement costs for damage caused by natural events like storms\n",
      "If a neighbor's tree branches fall and damage your property, your homeowner's insurance will likely cover the damage under property damage coverage as a first-party claim\n",
      "Tree damage without proof of negligence defaults to property coverage\n",
      "Liability insurance of the tree owner is only responsible if negligence is proven, such as ignoring written notice about a hazardous tree.\n",
      "Customer: What's the difference between property and liability coverage? I'm confused about which one covers what.\n",
      "\n",
      "Agent: Great question! Let me break down the key differences between property and liability coverage:\n",
      "\n",
      "Property Coverage:\n",
      "- Protects YOUR own property\n",
      "- Covers damage to your structures, belongings, and assets\n",
      "- First-party coverage (you're the policyholder making the claim)\n",
      "- Examples include damage from storms, hail, fire, or other natural events\n",
      "- Pays for repairs or replacement of your damaged property\n",
      "- You typically pay the deductible, and the insurance company covers the remaining costs\n",
      "\n",
      "Liability Coverage:\n",
      "- Protects YOU if you're legally responsible for damage to someone else's property or injury to another person\n",
      "- Third-party coverage (covers claims made against you by others)\n",
      "- Helps pay for legal expenses and damages if you're found at fault\n",
      "- Example: If someone is injured on your property or you accidentally damage a neighbor's property\n",
      "\n",
      "A quick real-world example: If a storm damages your roof, that's a property coverage claim. But if a tree from your yard falls and damages your neighbor's car due to your negligence, that would potentially involve liability coverage.\n",
      "\n",
      "Would you like me to clarify anything further about these two types of coverage?\n",
      "\n",
      "✨ Semantic knowledge pieces used: 10\n"
     ]
    }
   ],
   "source": [
    "print(\"\\n\\n✅ WITH SEMANTIC MEMORY (Knowledgeable Agent):\")\n",
    "print(\"-\" * 60)\n",
    "result_with_memory2 = await handle_query(\n",
    "    customer_id=\"CUST-87654\",\n",
    "    query=test_query2\n",
    ")\n",
    "print(f\"Customer: {test_query2}\")\n",
    "print(f\"\\nAgent: {result_with_memory2['response']}\")\n",
    "print(f\"\\n✨ Semantic knowledge pieces used: {result_with_memory2['semantic_knowledge_used']}\")\n"
   ]
  },
  {
   "cell_type": "code",
   "execution_count": null,
   "id": "6f4412cb",
   "metadata": {},
   "outputs": [],
   "source": []
  }
 ],
 "metadata": {
  "kernelspec": {
   "display_name": ".venv",
   "language": "python",
   "name": "python3"
  },
  "language_info": {
   "codemirror_mode": {
    "name": "ipython",
    "version": 3
   },
   "file_extension": ".py",
   "mimetype": "text/x-python",
   "name": "python",
   "nbconvert_exporter": "python",
   "pygments_lexer": "ipython3",
   "version": "3.12.9"
  }
 },
 "nbformat": 4,
 "nbformat_minor": 5
}
