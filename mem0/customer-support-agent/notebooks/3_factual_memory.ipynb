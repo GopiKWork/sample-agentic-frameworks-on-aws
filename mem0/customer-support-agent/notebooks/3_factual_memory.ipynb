{
 "cells": [
  {
   "cell_type": "markdown",
   "id": "2ah1pprosxv",
   "metadata": {},
   "source": [
    "# Factual Memory: Personalized Communication Styles\n",
    "\n",
    "This notebook demonstrates how **Factual Memory** enables AI agents to adapt their communication style, technical level, and approach based on stored customer preferences and facts. Unlike episodic memory which recalls events, factual memory stores enduring customer attributes like communication preferences, risk tolerance, and decision-making styles."
   ]
  },
  {
   "cell_type": "markdown",
   "id": "dxou3nq38ys",
   "metadata": {},
   "source": [
    "## Dependencies\n",
    "\n",
    "Core libraries for building adaptive communication systems that personalize responses based on customer preferences and factual profiles."
   ]
  },
  {
   "cell_type": "code",
   "execution_count": 2,
   "id": "95b2b35a",
   "metadata": {},
   "outputs": [],
   "source": [
    "import asyncio\n",
    "from typing import Dict, List, Any, TypedDict\n",
    "from datetime import datetime\n",
    "import json\n",
    "from langgraph.graph import StateGraph, END\n",
    "from langgraph.checkpoint.memory import MemorySaver\n",
    "from langchain_aws import ChatBedrockConverse\n",
    "from mem0 import MemoryClient\n",
    "import os"
   ]
  },
  {
   "cell_type": "markdown",
   "id": "xr91821gljj",
   "metadata": {},
   "source": [
    "## LLM Configuration\n"
   ]
  },
  {
   "cell_type": "code",
   "execution_count": null,
   "id": "5044d9c0",
   "metadata": {},
   "outputs": [],
   "source": [
    "llm = ChatBedrockConverse(\n",
    "    model_id=\"us.anthropic.claude-3-5-haiku-20241022-v1:0\",\n",
    "    temperature=0.1,\n",
    ")"
   ]
  },
  {
   "cell_type": "markdown",
   "id": "n0ucqad0z0p",
   "metadata": {},
   "source": [
    "## Memory Client Setup\n",
    "\n",
    "Initializes the memory client for storing and retrieving customer factual profiles including communication preferences, technical level, and decision-making styles."
   ]
  },
  {
   "cell_type": "code",
   "execution_count": null,
   "id": "1d7d379c",
   "metadata": {},
   "outputs": [],
   "source": [
    "import os\n",
    "import getpass\n",
    "\n",
    "\n",
    "def _set_env(var: str):\n",
    "    if not os.environ.get(var):\n",
    "        os.environ[var] = getpass.getpass(f\"{var}: \")\n",
    "\n",
    "\n",
    "_set_env(\"MEM0_API_KEY\")"
   ]
  },
  {
   "cell_type": "code",
   "execution_count": null,
   "id": "3d135baf",
   "metadata": {},
   "outputs": [],
   "source": [
    "import os\n",
    "from mem0 import MemoryClient\n",
    "\n",
    "memory_client = MemoryClient()"
   ]
  },
  {
   "cell_type": "markdown",
   "id": "qif3f4kqqb",
   "metadata": {},
   "source": [
    "## Factual Memory State\n",
    "\n",
    "Defines the workflow state for processing queries with customer factual profiles and preferences to enable personalized communication."
   ]
  },
  {
   "cell_type": "code",
   "execution_count": 4,
   "id": "0a03f2a4",
   "metadata": {},
   "outputs": [],
   "source": [
    "class FactualMemoryState(TypedDict):\n",
    "    \"\"\"Simple state for factual memory\"\"\"\n",
    "    customer_id: str\n",
    "    customer_query: str\n",
    "    factual_memories: List[Dict[str, Any]]\n",
    "    response: str"
   ]
  },
  {
   "cell_type": "markdown",
   "id": "3bb76kbv0my",
   "metadata": {},
   "source": [
    "## Factual Memory Retrieval\n",
    "\n",
    "Searches for customer preferences, communication styles, and factual attributes to inform personalized response generation."
   ]
  },
  {
   "cell_type": "code",
   "execution_count": 5,
   "id": "78cfdedb",
   "metadata": {},
   "outputs": [],
   "source": [
    "async def retrieve_factual_memory(state: FactualMemoryState) -> FactualMemoryState:\n",
    "    \"\"\"Retrieve customer's factual information\"\"\"\n",
    "    \n",
    "    # Get all factual information about this customer\n",
    "    factual_memories = memory_client.search(\n",
    "        query=\"preferences communication style contact method risk tolerance business context\",\n",
    "        user_id=state[\"customer_id\"],\n",
    "        limit=10\n",
    "    )\n",
    "    \n",
    "    state[\"factual_memories\"] = factual_memories\n",
    "    return state"
   ]
  },
  {
   "cell_type": "markdown",
   "id": "hrv6y1hxdmw",
   "metadata": {},
   "source": [
    "## Response Generation\n",
    "\n",
    "Adapts communication style, technical level, and format based on customer preferences to create personalized responses."
   ]
  },
  {
   "cell_type": "code",
   "execution_count": 6,
   "id": "3d6b1e05",
   "metadata": {},
   "outputs": [],
   "source": [
    "async def generate_factual_aware_response(state: FactualMemoryState) -> FactualMemoryState:\n",
    "    \"\"\"Generate response tailored to customer's factual profile\"\"\"\n",
    "    \n",
    "    # Extract factual information\n",
    "    factual_context = \"\\n\".join([\n",
    "        memory.get('memory', '') for memory in state[\"factual_memories\"]\n",
    "    ])\n",
    "    \n",
    "    prompt = f\"\"\"\n",
    "You are an insurance support agent. Respond according to the customer's known preferences and facts.\n",
    "\n",
    "Customer Query: {state[\"customer_query\"]}\n",
    "\n",
    "Customer's Known Preferences and Facts:\n",
    "{factual_context if factual_context else \"No preferences found - use standard professional tone\"}\n",
    "\n",
    "Instructions:\n",
    "- Adapt your communication style based on their stated preferences\n",
    "- Use appropriate technical level (simple for non-technical, detailed for technical)\n",
    "- Respect their contact preferences (email/phone/text)\n",
    "- Consider their risk tolerance (conservative/moderate/aggressive)\n",
    "- Account for their personal context (retired/busy/business owner)\n",
    "- Match their decision-making style (analytical/emotional/practical)\n",
    "\n",
    "Generate a response that feels personally tailored to them.\n",
    "\"\"\"\n",
    "\n",
    "    response = await llm.ainvoke(prompt)\n",
    "    state[\"response\"] = response.content.strip()\n",
    "    \n",
    "    return state\n",
    "\n"
   ]
  },
  {
   "cell_type": "markdown",
   "id": "s7nil23h6ke",
   "metadata": {},
   "source": [
    "## Memory Updates\n",
    "\n",
    "Stores the current interaction to continuously refine the customer's factual profile and preferences."
   ]
  },
  {
   "cell_type": "code",
   "execution_count": 24,
   "id": "74f17e20",
   "metadata": {},
   "outputs": [],
   "source": [
    "async def update_factual_memory(state: FactualMemoryState) -> FactualMemoryState:\n",
    "    \n",
    "    memory_client.add(\n",
    "        messages=[{\"role\": \"user\", \"content\": state['customer_query']},{\"role\": \"assistant\", \"content\": state['response']}],\n",
    "        user_id=state['customer_id'],\n",
    "        metadata={\n",
    "            \"type\": \"factual_memory\",\n",
    "           \n",
    "        }\n",
    "    )\n",
    "    \n",
    "    return state"
   ]
  },
  {
   "cell_type": "markdown",
   "id": "nky26f7fzz",
   "metadata": {},
   "source": [
    "## Factual Memory Workflow\n",
    "\n",
    "Creates a workflow that retrieves customer preferences, generates personalized responses, and updates factual profiles."
   ]
  },
  {
   "cell_type": "code",
   "execution_count": 9,
   "id": "e0abaf81",
   "metadata": {},
   "outputs": [],
   "source": [
    "def create_factual_workflow() -> StateGraph:\n",
    "    \"\"\"Create workflow for factual memory demo\"\"\"\n",
    "    \n",
    "    workflow = StateGraph(FactualMemoryState)\n",
    "    \n",
    "    # Add nodes\n",
    "    workflow.add_node(\"retrieve_factual_memory\", retrieve_factual_memory)\n",
    "    workflow.add_node(\"generate_factual_aware_response\", generate_factual_aware_response)\n",
    "    workflow.add_node(\"update_factual_memory\", update_factual_memory)\n",
    "    \n",
    "    # Define flow\n",
    "    workflow.set_entry_point(\"retrieve_factual_memory\")\n",
    "    workflow.add_edge(\"retrieve_factual_memory\", \"generate_factual_aware_response\")\n",
    "    workflow.add_edge(\"generate_factual_aware_response\", \"update_factual_memory\")\n",
    "    workflow.add_edge(\"update_factual_memory\", END)\n",
    "    \n",
    "    # Compile\n",
    "    memory_saver = MemorySaver()\n",
    "    return workflow.compile(checkpointer=memory_saver)"
   ]
  },
  {
   "cell_type": "markdown",
   "id": "cv719l0m167",
   "metadata": {},
   "source": [
    "## Workflow Compilation\n",
    "\n",
    "Compiles the factual memory workflow for processing personalized customer interactions."
   ]
  },
  {
   "cell_type": "code",
   "execution_count": 25,
   "id": "bb650f0e",
   "metadata": {},
   "outputs": [],
   "source": [
    "graph = create_factual_workflow()"
   ]
  },
  {
   "cell_type": "markdown",
   "id": "ulxsdtqead",
   "metadata": {},
   "source": [
    "## Sample conversations\n",
    "\n",
    "Creates diverse customer profiles with different communication preferences: a retired customer who prefers simple explanations and phone calls, a tech-savvy business owner who wants detailed data via email, and a busy parent who needs brief text messages."
   ]
  },
  {
   "cell_type": "code",
   "execution_count": 19,
   "id": "1d191398",
   "metadata": {},
   "outputs": [],
   "source": [
    "def store_customer_factual_profiles():\n",
    "    \"\"\"Store diverse customer factual profiles\"\"\"\n",
    "    \n",
    "    # Customer 1: Retired, non-technical, conservative\n",
    "    retired_customer = {\n",
    "        \"conversation_id\": \"FACT-001\",\n",
    "        \"customer_id\": \"CUST-67890\",\n",
    "        \"timestamp\": \"2024-01-20T10:00:00Z\",\n",
    "        \"conversation\": [\n",
    "            {\n",
    "                \"role\": \"user\",\n",
    "                \"content\": \"Hi, I need to review my policies. I'm not very tech-savvy, so please keep explanations simple. Also, I prefer phone calls over emails - I can never find emails in my inbox!\"\n",
    "            },\n",
    "            {\n",
    "                \"role\": \"assistant\",\n",
    "                \"content\": \"Absolutely! I'll keep everything straightforward and avoid technical jargon. I've noted that you prefer phone communication. Would you like me to call you to discuss your policy review?\"\n",
    "            },\n",
    "            {\n",
    "                \"role\": \"user\",\n",
    "                \"content\": \"Yes, please. I'm usually available mornings before 11 AM. I'm retired so I have time to talk through things properly.\"\n",
    "            },\n",
    "            {\n",
    "                \"role\": \"assistant\",\n",
    "                \"content\": \"Perfect! I've noted that morning calls work best for you. Since you have time for detailed discussions, I'll make sure we cover everything thoroughly but in simple terms.\"\n",
    "            },\n",
    "            {\n",
    "                \"role\": \"user\",\n",
    "                \"content\": \"All of them - home, auto, and life. I'm very safety-conscious, prefer comprehensive coverage even if it costs more. Peace of mind is worth it at my age.\"\n",
    "            }\n",
    "        ]\n",
    "    }\n",
    "    \n",
    "    # Store the conversation\n",
    "    memory_client.add(\n",
    "        messages=retired_customer[\"conversation\"],\n",
    "        user_id=retired_customer[\"customer_id\"]\n",
    "    )\n",
    "    \n",
    "    # Customer 2: Tech-savvy business owner\n",
    "    business_owner = [\n",
    "        {\n",
    "            \"content\": \"I run a software consulting firm with 20 employees. Need everything documented for our records.\",\n",
    " \n",
    "        },\n",
    "        {\n",
    "            \"content\": \"Email me all details - I prefer written communication with data and analytics. I'm very comfortable with technical information.\",\n",
    "        },\n",
    "        {\n",
    "            \"content\": \"I make decisions based on ROI analysis. Cost-efficiency is important but I understand the value of proper coverage.\",\n",
    "        },\n",
    "        {\n",
    "            \"content\": \"I typically review documents in the evenings after 6 PM. Quick email responses work best for my schedule.\",\n",
    "\n",
    "        }\n",
    "    ]\n",
    "    \n",
    "    for fact in business_owner:\n",
    "        memory_client.add(\n",
    "            messages=[{\"role\": \"user\", \"content\": fact[\"content\"]}],\n",
    "            user_id=\"CUST-TECH-BIZ-001\"\n",
    "        )\n",
    "    \n",
    "    # Customer 3: Busy parent\n",
    "    busy_parent = [\n",
    "        {\n",
    "            \"content\": \"I have three young kids and work full-time as a nurse. Text me - I can't take calls during my shifts.\",\n",
    "            \"metadata\": {\"type\": \"factual_memory\"}\n",
    "        },\n",
    "        {\n",
    "            \"content\": \"Keep things brief and to the point. I don't have time for long explanations. Just tell me what I need to know.\",\n",
    "            \"metadata\": {\"type\": \"factual_memory\"}\n",
    "        },\n",
    "        {\n",
    "            \"content\": \"My spouse and I make insurance decisions together. We're moderate with risk - want good coverage but need to watch the budget.\",\n",
    "            \"metadata\": {\"type\": \"factual_memory\"}\n",
    "        },\n",
    "        {\n",
    "            \"content\": \"Best times to reach me are early morning (6-7 AM) or late evening (after 8 PM) when kids are asleep.\",\n",
    "            \"metadata\": {\"type\": \"factual_memory\"}\n",
    "        }\n",
    "    ]\n",
    "    \n",
    "    for fact in busy_parent:\n",
    "        memory_client.add(\n",
    "            messages=[{\"role\": \"user\", \"content\": fact[\"content\"]}],\n",
    "            user_id=\"CUST-PARENT-001\",\n",
    "        )"
   ]
  },
  {
   "cell_type": "markdown",
   "id": "e37yysxk745",
   "metadata": {},
   "source": [
    "## Loading Customer Profiles\n",
    "\n",
    "Executes the storage of diverse customer factual profiles into memory for demonstration purposes."
   ]
  },
  {
   "cell_type": "code",
   "execution_count": 20,
   "id": "b9e9cb42",
   "metadata": {},
   "outputs": [
    {
     "name": "stdout",
     "output_type": "stream",
     "text": [
      "📚 [Loading customer factual profiles...]\n",
      "✅ Customer profiles loaded!\n",
      "\n"
     ]
    }
   ],
   "source": [
    "# Store customer profiles\n",
    "print(\"📚 [Loading customer factual profiles...]\")\n",
    "store_customer_factual_profiles()\n",
    "print(\"✅ Customer profiles loaded!\\n\")\n"
   ]
  },
  {
   "cell_type": "markdown",
   "id": "eex30804bd6",
   "metadata": {},
   "source": [
    "## Query Handler\n",
    "\n",
    "Processes customer queries through the factual memory workflow to generate responses tailored to individual communication preferences and styles."
   ]
  },
  {
   "cell_type": "code",
   "execution_count": 21,
   "id": "04b96c9e",
   "metadata": {},
   "outputs": [],
   "source": [
    "async def handle_query_with_factual_memory(customer_id: str, query: str) -> Dict[str, Any]:\n",
    "    \"\"\"Process a query using factual memory\"\"\"\n",
    "    \n",
    "    initial_state = FactualMemoryState(\n",
    "        customer_id=customer_id,\n",
    "        customer_query=query,\n",
    "        factual_memories=[],\n",
    "        response=\"\"\n",
    "    )\n",
    "    \n",
    "    config = {\"configurable\": {\"thread_id\": f\"factual_{customer_id}\"}}\n",
    "    result = await graph.ainvoke(initial_state, config)\n",
    "    \n",
    "    return {\n",
    "        \"query\": query,\n",
    "        \"response\": result[\"response\"],\n",
    "        \"facts_found\": len(result[\"factual_memories\"])\n",
    "    }"
   ]
  },
  {
   "cell_type": "markdown",
   "id": "3rvzcmhfjxo",
   "metadata": {},
   "source": [
    "## Factual Memory Demonstration\n",
    "\n",
    "The following examples show how the same insurance query generates vastly different responses based on each customer's factual profile - adapting communication style, technical level, format, and timing preferences."
   ]
  },
  {
   "cell_type": "code",
   "execution_count": 26,
   "id": "5f425702",
   "metadata": {},
   "outputs": [
    {
     "name": "stdout",
     "output_type": "stream",
     "text": [
      "💰 SCENARIO 1: Auto Insurance Rate Increase\n",
      "================================================================================\n",
      "\n",
      "👴 Retired Customer (Non-technical, Phone Preference):\n",
      "------------------------------------------------------------\n",
      "\n",
      "\n",
      "✅ WITH FACTUAL MEMORY:\n",
      "Customer: My auto insurance went up by $50 this month. Why?\n",
      "Agent: Based on the customer's preferences, here's a tailored response:\n",
      "\n",
      "Good morning! I noticed you might have some questions about your recent auto insurance rate increase. I'd be happy to give you a call tomorrow morning before 11 AM to walk you through the details in a way that's easy to understand. \n",
      "\n",
      "From what I know about your preference for comprehensive coverage and safety, there could be a few reasons for the rate adjustment:\n",
      "- Recent driving record updates\n",
      "- Changes in local accident or claim rates\n",
      "- Vehicle age or value adjustments\n",
      "- Comprehensive coverage enhancements\n",
      "\n",
      "Would you like me to prepare a detailed breakdown to review during our phone call? I want to ensure you have complete peace of mind about your policy and understand exactly what's happening with your coverage.\n",
      "\n",
      "I'll plan to call you tomorrow morning to discuss this in depth and also review your home and life insurance policies while we're talking. Does that work for you?\n",
      "\n",
      "Best regards,\n",
      "[Insurance Support Agent]\n",
      "\n",
      "The response is:\n",
      "- Proactive about scheduling a phone call (preferred communication method)\n",
      "- Offers a simple explanation\n",
      "- Respects their morning availability\n",
      "- Shows understanding of their preference for comprehensive coverage\n",
      "- Offers a holistic policy review\n",
      "- Demonstrates commitment to their peace of mind\n",
      "💾 Facts used: 7\n"
     ]
    }
   ],
   "source": [
    "\n",
    "# SCENARIO 1: Rate increase notification - different customers\n",
    "print(\"💰 SCENARIO 1: Auto Insurance Rate Increase\")\n",
    "print(\"=\" * 80)\n",
    "\n",
    "rate_query = \"My auto insurance went up by $50 this month. Why?\"\n",
    "\n",
    "# Retired customer\n",
    "print(\"\\n👴 Retired Customer (Non-technical, Phone Preference):\")\n",
    "print(\"-\" * 60)\n",
    "\n",
    "print(\"\\n\\n✅ WITH FACTUAL MEMORY:\")\n",
    "retired_result = await handle_query_with_factual_memory(\"CUST-67890\", rate_query)\n",
    "print(f\"Customer: {rate_query}\")\n",
    "print(f\"Agent: {retired_result['response']}\")\n",
    "print(f\"💾 Facts used: {retired_result['facts_found']}\")\n",
    "\n",
    "# %%\n"
   ]
  },
  {
   "cell_type": "code",
   "execution_count": 27,
   "id": "4ee68b55",
   "metadata": {},
   "outputs": [
    {
     "name": "stdout",
     "output_type": "stream",
     "text": [
      "\n",
      "\n",
      "💼 Business Owner (Technical, Email Preference):\n",
      "------------------------------------------------------------\n",
      "Customer: My auto insurance went up by $50 this month. Why?\n",
      "Agent: Subject: Auto Insurance Premium Adjustment - Detailed Analysis\n",
      "\n",
      "Dear [Customer],\n",
      "\n",
      "Per your preference for data-driven communication, I'm providing a comprehensive breakdown of your recent $50 premium increase.\n",
      "\n",
      "Key Factors Contributing to Rate Adjustment:\n",
      "1. Risk Pool Recalibration\n",
      "- Regional claims data indicates increased accident frequency\n",
      "- Statistical model suggests 7.2% overall risk increment in your zip code\n",
      "\n",
      "2. Vehicle Risk Assessment\n",
      "- Your current vehicle model shows slightly higher repair costs\n",
      "- Insurance risk algorithms reflect emerging repair technology expenses\n",
      "\n",
      "3. Actuarial Model Updates\n",
      "- Recent predictive analytics suggest adjusted risk profiles\n",
      "- Micro-segmentation algorithms triggered premium recalibration\n",
      "\n",
      "Recommended Actions:\n",
      "- Review current coverage alignment with business vehicle usage\n",
      "- Consider bundling policies for potential 12-15% total savings\n",
      "- Schedule a detailed policy review during your evening review time\n",
      "\n",
      "Attached: Comprehensive rate analysis spreadsheet for your records\n",
      "\n",
      "I'll follow up with a detailed email by 7 PM tonight, allowing you to review at your convenience.\n",
      "\n",
      "Best regards,\n",
      "[Insurance Support Agent]\n",
      "\n",
      "Analysis matches your analytical approach, provides substantive data, respects communication preferences, and offers actionable insights.\n",
      "💾 Facts used: 8\n"
     ]
    }
   ],
   "source": [
    "# Business owner\n",
    "print(\"\\n\\n💼 Business Owner (Technical, Email Preference):\")\n",
    "print(\"-\" * 60)\n",
    "\n",
    "business_result = await handle_query_with_factual_memory(\"CUST-TECH-BIZ-001\", rate_query)\n",
    "print(f\"Customer: {rate_query}\")\n",
    "print(f\"Agent: {business_result['response']}\")\n",
    "print(f\"💾 Facts used: {business_result['facts_found']}\")\n",
    "\n"
   ]
  }
 ],
 "metadata": {
  "kernelspec": {
   "display_name": ".venv",
   "language": "python",
   "name": "python3"
  },
  "language_info": {
   "codemirror_mode": {
    "name": "ipython",
    "version": 3
   },
   "file_extension": ".py",
   "mimetype": "text/x-python",
   "name": "python",
   "nbconvert_exporter": "python",
   "pygments_lexer": "ipython3",
   "version": "3.13.2"
  }
 },
 "nbformat": 4,
 "nbformat_minor": 5
}
