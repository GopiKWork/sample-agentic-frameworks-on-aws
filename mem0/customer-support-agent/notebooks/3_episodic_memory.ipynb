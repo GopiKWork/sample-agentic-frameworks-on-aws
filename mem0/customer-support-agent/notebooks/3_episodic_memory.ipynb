{
 "cells": [
  {
   "cell_type": "markdown",
   "id": "sxyo22fi26",
   "metadata": {},
   "source": [
    "# Episodic Memory in Customer Support: Personalized Service Demo\n",
    "\n",
    "This notebook demonstrates how **Episodic Memory** creates deeply personalized customer experiences by remembering each customer's unique history, circumstances, and past interactions.\n",
    "\n",
    "## Core Concept: Every Customer Has a Unique Story\n",
    "\n",
    "Episodic memory ensures that specific customer events, circumstances, and history are remembered across all interactions. Unlike semantic memory which stores general knowledge, episodic memory is personal - it remembers that John's mother has medical equipment, that Sarah's son just got his license, or that Michael had a traumatic water damage experience.\n",
    "\n",
    "**Key Benefits:**\n",
    "- **Personal Recognition**: Customers feel valued when agents remember their specific situations\n",
    "- **Context-Aware Service**: Responses account for past events and customer circumstances  \n",
    "- **Relationship Building**: Each interaction builds on the customer's unique journey\n",
    "- **Proactive Support**: Agents can anticipate needs based on customer history\n",
    "\n",
    "This demo shows how an insurance agent remembers a customer's previous water damage crisis involving medical equipment and provides personalized service months later when they call about a new issue."
   ]
  },
  {
   "cell_type": "code",
   "execution_count": null,
   "id": "7b3b0ca6",
   "metadata": {},
   "outputs": [],
   "source": [
    "import asyncio\n",
    "from typing import Dict, List, Any, TypedDict\n",
    "import json\n",
    "from langgraph.graph import StateGraph, END\n",
    "from langgraph.checkpoint.memory import MemorySaver\n",
    "from langchain_aws import ChatBedrockConverse\n",
    "from mem0 import MemoryClient\n",
    "import os"
   ]
  },
  {
   "cell_type": "markdown",
   "id": "b9c3qcdmmla",
   "metadata": {},
   "source": [
    "## Memory Client\n",
    "\n",
    "The MemoryClient for episodic memory uses `user_id` to create individual memory spaces for each customer. Unlike semantic memory which is shared across all interactions, episodic memory is personal - each customer's history, circumstances, and experiences are stored separately and retrieved specifically for them."
   ]
  },
  {
   "cell_type": "code",
   "execution_count": null,
   "id": "a1e6445b",
   "metadata": {},
   "outputs": [],
   "source": [
    "import os\n",
    "import getpass\n",
    "\n",
    "\n",
    "def _set_env(var: str):\n",
    "    if not os.environ.get(var):\n",
    "        os.environ[var] = getpass.getpass(f\"{var}: \")\n",
    "\n",
    "\n",
    "_set_env(\"MEM0_API_KEY\")"
   ]
  },
  {
   "cell_type": "code",
   "execution_count": null,
   "id": "f6bb8902",
   "metadata": {},
   "outputs": [],
   "source": [
    "import os\n",
    "from mem0 import MemoryClient\n",
    "\n",
    "memory_client = MemoryClient()"
   ]
  },
  {
   "cell_type": "markdown",
   "id": "g7e0tiywjvr",
   "metadata": {},
   "source": [
    "## LLM\n",
    "\n",
    "Configured with low temperature for consistent, empathetic responses that appropriately reference customer history and demonstrate personal recognition in insurance support scenarios."
   ]
  },
  {
   "cell_type": "code",
   "execution_count": null,
   "id": "6e25da5e",
   "metadata": {},
   "outputs": [],
   "source": [
    "llm = ChatBedrockConverse(\n",
    "    model_id=\"us.anthropic.claude-3-5-haiku-20241022-v1:0\",\n",
    "    temperature=0.1,\n",
    ")"
   ]
  },
  {
   "cell_type": "markdown",
   "id": "g8ha5uv1sh",
   "metadata": {},
   "source": [
    "## Customer State for Personalized Interactions\n",
    "\n",
    "The `CustomerState` tracks individual customer information and their personal history. The key difference from other memory types is the `is_returning_customer` flag and `customer_history` - enabling agents to provide personalized service based on each customer's unique journey and past experiences."
   ]
  },
  {
   "cell_type": "code",
   "execution_count": 4,
   "id": "24be3f80",
   "metadata": {},
   "outputs": [],
   "source": [
    "class CustomerState(TypedDict):\n",
    "    \"\"\"State for episodic memory demo\"\"\"\n",
    "    customer_id: str\n",
    "    customer_query: str\n",
    "    customer_history: List[Dict[str, Any]]\n",
    "    support_response: str\n",
    "    is_returning_customer: bool"
   ]
  },
  {
   "cell_type": "markdown",
   "id": "ac7z289rw2",
   "metadata": {},
   "source": [
    "## Personal History Retrieval\n",
    "\n",
    "This function searches for memories specific to an individual customer using their `user_id`. Unlike semantic memory which is shared across all customers, episodic memory retrieval is personal - it finds this specific customer's past interactions, life events, family circumstances, and unique situations.\n",
    "\n",
    "**The Power of Personal Context:**\n",
    "- Remembers individual family situations (elderly mother with medical equipment)\n",
    "- Tracks customer tenure and loyalty history  \n",
    "- Recalls past claims and their specific circumstances\n",
    "- Identifies patterns unique to this customer's journey\n",
    "\n",
    "This creates the foundation for truly personalized service where customers feel recognized and valued as individuals."
   ]
  },
  {
   "cell_type": "code",
   "execution_count": 5,
   "id": "3f5e9f63",
   "metadata": {},
   "outputs": [],
   "source": [
    "async def retrieve_customer_history(state: CustomerState) -> CustomerState:\n",
    "    \"\"\"Retrieve specific customer's episodic memories\"\"\"\n",
    "    \n",
    "    # Search for this specific customer's past interactions\n",
    "    customer_memories = memory_client.search(\n",
    "        query=state[\"customer_query\"],\n",
    "        user_id=state[\"customer_id\"],\n",
    "        limit=10\n",
    "    )\n",
    "    \n",
    "    state[\"customer_history\"] = customer_memories\n",
    "    state[\"is_returning_customer\"] = len(customer_memories) > 0\n",
    "    return state"
   ]
  },
  {
   "cell_type": "markdown",
   "id": "jwhe8ras8j",
   "metadata": {},
   "source": [
    "## Personalized Response Generation\n",
    "\n",
    "Generates responses that reference the customer's specific history and circumstances. For returning customers, acknowledges past events and builds on previous interactions. For new customers, provides standard service while building their memory profile."
   ]
  },
  {
   "cell_type": "code",
   "execution_count": 6,
   "id": "bd8619d8",
   "metadata": {},
   "outputs": [],
   "source": [
    "async def generate_personalized_response(state: CustomerState) -> CustomerState:\n",
    "    \"\"\"Generate response using customer's episodic memory\"\"\"\n",
    "    \n",
    "    # Extract customer's specific history\n",
    "    history_context = []\n",
    "    for memory in state[\"customer_history\"]:\n",
    "        content = memory.get('memory', '')\n",
    "        if content:\n",
    "            history_context.append(content)\n",
    "    \n",
    "    customer_context = \"\\n\".join(history_context) if history_context else \"No previous interactions found\"\n",
    "    \n",
    "    # Generate response using episodic memory\n",
    "    prompt = f\"\"\"\n",
    "You are an insurance support agent. Use the customer's specific history to provide personalized service.\n",
    "\n",
    "Current Query: {state[\"customer_query\"]}\n",
    "\n",
    "Customer's History:\n",
    "{customer_context}\n",
    "\n",
    "Is Returning Customer: {state[\"is_returning_customer\"]}\n",
    "\n",
    "If this is a returning customer:\n",
    "- Reference their specific past events and circumstances\n",
    "- Show you remember their unique situation\n",
    "- Build on previous interactions\n",
    "- Acknowledge their history with us\n",
    "\n",
    "If this is a new customer:\n",
    "- Provide helpful service but note you don't have their history\n",
    "- Focus on gathering necessary information\n",
    "\n",
    "Provide a personalized response that shows you remember them.\n",
    "\"\"\"\n",
    "\n",
    "    response = await llm.ainvoke(prompt)\n",
    "    state[\"support_response\"] = response.content.strip()\n",
    "    \n",
    "    return state"
   ]
  },
  {
   "cell_type": "markdown",
   "id": "65vaosqnxnp",
   "metadata": {},
   "source": [
    "## Response Without Memory (Baseline)\n",
    "\n",
    "Generates generic responses without access to customer history. Treats every interaction as if it's the first time meeting the customer, demonstrating the difference episodic memory makes."
   ]
  },
  {
   "cell_type": "code",
   "execution_count": 7,
   "id": "04d71bd5",
   "metadata": {},
   "outputs": [],
   "source": [
    "async def generate_response_without_memory(query: str) -> str:\n",
    "    \"\"\"Generate response WITHOUT episodic memory - treating as new customer\"\"\"\n",
    "    \n",
    "    prompt = f\"\"\"\n",
    "You are an insurance support agent. You have NO access to customer history or previous interactions.\n",
    "Treat this as a first-time caller.\n",
    "\n",
    "Customer Query: {query}\n",
    "\n",
    "Provide a generic response as if you've never spoken to this customer before.\n",
    "\"\"\"\n",
    "\n",
    "    response = await llm.ainvoke(prompt)\n",
    "    return response.content.strip()"
   ]
  },
  {
   "cell_type": "markdown",
   "id": "52wn20pfcmx",
   "metadata": {},
   "source": [
    "## Storing Customer Interactions\n",
    "\n",
    "Saves each interaction to the customer's personal memory space, building their individual history over time for future personalized service."
   ]
  },
  {
   "cell_type": "code",
   "execution_count": null,
   "id": "12590a83",
   "metadata": {},
   "outputs": [],
   "source": [
    "async def store_interaction(state: CustomerState) -> CustomerState:\n",
    "    \"\"\"Store this interaction as episodic memory\"\"\"\n",
    "    \n",
    "    # Store the current interaction for future reference\n",
    "    interaction = f\"Customer called about: {state['customer_query']}. Resolution: {state['support_response']}\"\n",
    "    \n",
    "    memory_client.add(\n",
    "        messages=[{\"role\": \"user\", \"content\": state['customer_query']}, \n",
    "                  {\"role\": \"assistant\", \"content\": state['support_response']}],\n",
    "        user_id=state[\"customer_id\"],\n",
    "        metadata={\n",
    "            \"type\": \"episodic_memory\"\n",
    "        }\n",
    "    )\n",
    "    \n",
    "    return state"
   ]
  },
  {
   "cell_type": "markdown",
   "id": "x4g6q21j8t",
   "metadata": {},
   "source": [
    "## Episodic Memory Workflow\n",
    "\n",
    "Creates a workflow that retrieves customer history, generates personalized responses, and stores new interactions for future use."
   ]
  },
  {
   "cell_type": "code",
   "execution_count": 9,
   "id": "422fe125",
   "metadata": {},
   "outputs": [],
   "source": [
    "def create_episodic_workflow() -> StateGraph:\n",
    "    \"\"\"Create workflow for episodic memory demo\"\"\"\n",
    "    \n",
    "    workflow = StateGraph(CustomerState)\n",
    "    \n",
    "    # Add nodes\n",
    "    workflow.add_node(\"retrieve_customer_history\", retrieve_customer_history)\n",
    "    workflow.add_node(\"generate_personalized_response\", generate_personalized_response)\n",
    "    workflow.add_node(\"store_interaction\", store_interaction)\n",
    "    \n",
    "    # Define flow\n",
    "    workflow.set_entry_point(\"retrieve_customer_history\")\n",
    "    workflow.add_edge(\"retrieve_customer_history\", \"generate_personalized_response\")\n",
    "    workflow.add_edge(\"generate_personalized_response\", \"store_interaction\")\n",
    "    workflow.add_edge(\"store_interaction\", END)\n",
    "    \n",
    "    # Compile\n",
    "    memory_saver = MemorySaver()\n",
    "    return workflow.compile(checkpointer=memory_saver)"
   ]
  },
  {
   "cell_type": "markdown",
   "id": "tipbvrizps",
   "metadata": {},
   "source": [
    "## Workflow Compilation\n",
    "\n",
    "Compiles the episodic memory workflow for processing customer queries with personalized context."
   ]
  },
  {
   "cell_type": "code",
   "execution_count": 10,
   "id": "6b901055",
   "metadata": {},
   "outputs": [],
   "source": [
    "graph = create_episodic_workflow()"
   ]
  },
  {
   "cell_type": "markdown",
   "id": "2joc5bao035",
   "metadata": {},
   "source": [
    "## Sample Customer Histories\n",
    "\n",
    "Creates realistic customer histories including a water damage emergency with medical equipment concerns and a teen driver addition scenario. These personal stories become the foundation for personalized future interactions."
   ]
  },
  {
   "cell_type": "code",
   "execution_count": 11,
   "id": "1e083bac",
   "metadata": {},
   "outputs": [],
   "source": [
    "def store_customer_histories():\n",
    "    \"\"\"Store episodic memory examples - specific customer events\"\"\"\n",
    "    \n",
    "    # Customer 1: Water damage with elderly mother's medical equipment\n",
    "    customer1_history = {\n",
    "        \"conversation_id\": \"EPI-001\",\n",
    "        \"customer_id\": \"CUST-45678\",\n",
    "        \"timestamp\": \"2024-01-15T09:00:00Z\",\n",
    "        \"metadata\": {\n",
    "            \"type\": \"urgent_claim\",\n",
    "            \"insurance_type\": \"home\"\n",
    "        },\n",
    "        \"conversation\": [\n",
    "            {\n",
    "                \"role\": \"user\",\n",
    "                \"content\": \"I have a major problem. A pipe burst in our basement and there's water everywhere. My elderly mother lives with us and her medical equipment is down there.\"\n",
    "            },\n",
    "            {\n",
    "                \"role\": \"assistant\",\n",
    "                \"content\": \"This is definitely urgent. First, have you shut off the main water valve?\"\n",
    "            },\n",
    "            {\n",
    "                \"role\": \"user\",\n",
    "                \"content\": \"Yes, my husband did that. But my mother's oxygen concentrator, her CPAP machine, and her electric wheelchair are all in standing water. She has severe COPD and can't be without oxygen for long.\"\n",
    "            },\n",
    "            {\n",
    "                \"role\": \"assistant\",\n",
    "                \"content\": \"I understand the critical nature. I'm immediately dispatching ServePro for emergency water mitigation - they'll be there within 2 hours. What's your mother's oxygen situation right now?\"\n",
    "            },\n",
    "            {\n",
    "                \"role\": \"user\",\n",
    "                \"content\": \"We have a portable tank but it only lasts 4 hours. The medical supply company can't deliver a replacement concentrator until tomorrow.\"\n",
    "            },\n",
    "            {\n",
    "                \"role\": \"assistant\",\n",
    "                \"content\": \"I'm authorizing an emergency equipment rental. Call Brookdale Medical Supplies at 555-MEDICAL - tell them claim CLM-WATER-8899 pre-authorizes immediate rental of an oxygen concentrator, CPAP, and wheelchair. They'll bill us directly. Also, that basement bedroom will need special remediation due to medical use - I'm noting that for the restoration team.\"\n",
    "            },\n",
    "            {\n",
    "                \"role\": \"user\",\n",
    "                \"content\": \"Thank you so much. We've been customers for 12 years and this is our first major claim. We're just overwhelmed.\"\n",
    "            },\n",
    "            {\n",
    "                \"role\": \"assistant\",\n",
    "                \"content\": \"You're in good hands. Your loyalty is appreciated, and we're here for situations exactly like this. The restoration team will also set up air purifiers specifically rated for medical spaces. Keep all receipts for your mother's temporary relocation if needed - that's covered under additional living expenses.\"\n",
    "            }\n",
    "        ]\n",
    "    }\n",
    "    \n",
    "    # Store the conversation\n",
    "    memory_client.add(\n",
    "        messages=customer1_history[\"conversation\"],\n",
    "        user_id=customer1_history[\"customer_id\"],\n",
    "        metadata=customer1_history[\"metadata\"]\n",
    "    )\n",
    "    \n",
    "    # Customer 2: Teen driver addition with specific details\n",
    "    customer2_history = {\n",
    "        \"conversation_id\": \"PRO-001\",\n",
    "        \"customer_id\": \"CUST-56789\",\n",
    "        \"timestamp\": \"2024-02-01T11:00:00Z\",\n",
    "        \"metadata\": {\n",
    "            \"type\": \"policy_change\",\n",
    "            \"insurance_type\": \"auto\"\n",
    "        },\n",
    "        \"conversation\": [\n",
    "            {\n",
    "                \"role\": \"user\",\n",
    "                \"content\": \"My son Michael just turned 16 and got his license. I'm dreading this - I heard adding a teen can double our premium. He's a good kid, 3.8 GPA, finished driver's ed last month.\"\n",
    "            },\n",
    "            {\n",
    "                \"role\": \"assistant\",\n",
    "                \"content\": \"Congratulations to Michael! And don't worry - with his qualifications, the impact will be much less than doubling. Let me walk you through how to minimize the cost. First, that 3.8 GPA qualifies for our good student discount of 15%. The driver's education certificate adds another 10%. Now, here's the key: which car will he primarily drive?\"\n",
    "            },\n",
    "            {\n",
    "                \"role\": \"user\",\n",
    "                \"content\": \"We have a 2022 BMW X5, a 2020 Tesla Model 3, and a 2015 Honda Civic. He likes the Tesla but we were thinking the Honda would be safer for him to learn on.\"\n",
    "            },\n",
    "            {\n",
    "                \"role\": \"assistant\",\n",
    "                \"content\": \"Perfect thinking! Assigning Michael as primary driver on the 2015 Civic will save you hundreds per month versus the Tesla or BMW. I'm applying all discounts and enrolling him in TeenSafe monitoring for another 20% off. Your total increase will be about $180/month instead of the $400+ you were fearing.\"\n",
    "            }\n",
    "        ]\n",
    "    }\n",
    "    \n",
    "    memory_client.add(\n",
    "        messages=customer2_history[\"conversation\"],\n",
    "        user_id=customer2_history[\"customer_id\"],\n",
    "        metadata=customer2_history[\"metadata\"]\n",
    "    )"
   ]
  },
  {
   "cell_type": "code",
   "execution_count": null,
   "id": "0e0bf0cd",
   "metadata": {},
   "outputs": [],
   "source": [
    "print(\"\\n\\n📚 [Loading customer histories into episodic memory...]\")\n",
    "store_customer_histories()\n",
    "print(\"✅ Customer histories loaded!\\n\")"
   ]
  },
  {
   "cell_type": "markdown",
   "id": "31ly58zu1dm",
   "metadata": {},
   "source": [
    "## Customer Query Handler\n",
    "\n",
    "Processes customer queries through the episodic memory workflow, returning personalized responses based on their individual history and circumstances."
   ]
  },
  {
   "cell_type": "code",
   "execution_count": 12,
   "id": "24fdfbf3",
   "metadata": {},
   "outputs": [],
   "source": [
    "async def handle_customer_query(customer_id: str, query: str) -> Dict[str, Any]:\n",
    "    \"\"\"Process a customer query using episodic memory\"\"\"\n",
    "    \n",
    "    initial_state = CustomerState(\n",
    "        customer_id=customer_id,\n",
    "        customer_query=query,\n",
    "        customer_history=[],\n",
    "        support_response=\"\",\n",
    "        is_returning_customer=False\n",
    "    )\n",
    "    \n",
    "    config = {\"configurable\": {\"thread_id\": f\"episodic_{customer_id}\"}}\n",
    "    result = await graph.ainvoke(initial_state, config)\n",
    "    \n",
    "    return {\n",
    "        \"query\": query,\n",
    "        \"response\": result[\"support_response\"],\n",
    "        \"history_items_found\": len(result[\"customer_history\"]),\n",
    "        \"is_returning\": result[\"is_returning_customer\"]\n",
    "    }"
   ]
  },
  {
   "cell_type": "markdown",
   "id": "7q98q3piwwp",
   "metadata": {},
   "source": [
    "## Episodic Memory Demonstration\n",
    "\n",
    "The following cells demonstrate the power of episodic memory by comparing responses with and without customer history. The same customer who previously experienced a traumatic water damage incident now calls about a new water issue. Notice how episodic memory enables empathetic, context-aware service."
   ]
  },
  {
   "cell_type": "code",
   "execution_count": null,
   "id": "d70d15b3",
   "metadata": {},
   "outputs": [],
   "source": [
    "print(\"💧 SCENARIO 1: Water Damage Customer - 6 Months Later\")\n",
    "print(\"=\" * 80)\n",
    "\n",
    "# First, simulate WITHOUT episodic memory\n",
    "print(\"\\n❌ WITHOUT EPISODIC MEMORY (Generic Agent):\")\n",
    "print(\"-\" * 60)\n",
    "query1 = \"Hi, I need help. We're having another water issue, this time from the water heater.\"\n",
    "response_no_memory1 = await generate_response_without_memory(query1)\n",
    "print(f\"Customer (CUST-45678): {query1}\")\n",
    "print(f\"\\nAgent: {response_no_memory1}\")\n"
   ]
  },
  {
   "cell_type": "code",
   "execution_count": 15,
   "id": "23bfa627",
   "metadata": {},
   "outputs": [
    {
     "name": "stdout",
     "output_type": "stream",
     "text": [
      "\n",
      "✅ WITH EPISODIC MEMORY (Personalized Agent):\n",
      "------------------------------------------------------------\n",
      "Customer (CUST-45678): Hi, I need help. We're having another water issue, this time from the water heater.\n",
      "\n",
      "Agent: Hi there. I see we're dealing with another water-related incident, and I want you to know I'm here to help you through this, especially given what you've already been through with the previous pipe burst.\n",
      "\n",
      "I remember the significant challenges you faced last time with your mother's critical medical equipment, and I understand how stressful this must be. Given your mother's severe COPD and her dependence on medical devices, we need to act quickly to mitigate the water damage and ensure her safety.\n",
      "\n",
      "Here's what I recommend we do immediately:\n",
      "1. I'm escalating this claim to our emergency water damage response team\n",
      "2. We'll prioritize getting professional water removal and drying services to your home today\n",
      "3. I'll help coordinate with your medical equipment providers to expedite replacement or temporary equipment\n",
      "4. We'll cover emergency accommodation if needed to ensure your mother's medical needs are met\n",
      "\n",
      "Your 12-year history with us means we're committed to supporting you comprehensively. Can you confirm the current status of the water heater leak and confirm your mother is safe right now?\n",
      "\n",
      "Would you like me to conference in our emergency claims specialist to start the immediate response process?\n",
      "\n",
      "✨ Customer history items found: 7\n",
      "✨ Recognized as returning customer: True\n"
     ]
    }
   ],
   "source": [
    "\n",
    "\n",
    "# With episodic memory\n",
    "print(\"\\n✅ WITH EPISODIC MEMORY (Personalized Agent):\")\n",
    "print(\"-\" * 60)\n",
    "result1 = await handle_customer_query(\n",
    "    customer_id=\"CUST-45678\",\n",
    "    query=query1\n",
    ")\n",
    "print(f\"Customer (CUST-45678): {query1}\")\n",
    "print(f\"\\nAgent: {result1['response']}\")\n",
    "print(f\"\\n✨ Customer history items found: {result1['history_items_found']}\")\n",
    "print(f\"✨ Recognized as returning customer: {result1['is_returning']}\")"
   ]
  },
  {
   "cell_type": "code",
   "execution_count": 16,
   "id": "b3b91d08",
   "metadata": {},
   "outputs": [
    {
     "name": "stdout",
     "output_type": "stream",
     "text": [
      "\n",
      "\n",
      "💧 SCENARIO 1B: Follow-up Question\n",
      "================================================================================\n",
      "\n",
      "❌ WITHOUT EPISODIC MEMORY:\n",
      "------------------------------------------------------------\n",
      "Customer: Yes, thankfully it's in a different area. But I'm worried about repeated water claims affecting our rates.\n",
      "\n",
      "Agent: I apologize, but I'm having trouble understanding the context of your statement. It seems like you're referring to a previous conversation about water damage or insurance claims, but I don't have any prior information. Could you please provide me with more details about your specific situation? I'd be happy to help you understand how water claims might impact your insurance rates.\n",
      "\n",
      "⚠️  Notice: Can't provide context-aware advice about their specific situation\n"
     ]
    }
   ],
   "source": [
    "print(\"\\n\\n💧 SCENARIO 1B: Follow-up Question\")\n",
    "print(\"=\" * 80)\n",
    "\n",
    "query1b = \"Yes, thankfully it's in a different area. But I'm worried about repeated water claims affecting our rates.\"\n",
    "\n",
    "print(\"\\n❌ WITHOUT EPISODIC MEMORY:\")\n",
    "print(\"-\" * 60)\n",
    "response_no_memory1b = await generate_response_without_memory(query1b)\n",
    "print(f\"Customer: {query1b}\")\n",
    "print(f\"\\nAgent: {response_no_memory1b}\")\n",
    "print(\"\\n⚠️  Notice: Can't provide context-aware advice about their specific situation\")\n"
   ]
  },
  {
   "cell_type": "code",
   "execution_count": null,
   "id": "a85a59d8",
   "metadata": {},
   "outputs": [],
   "source": [
    "print(\"\\n\\n✅ WITH EPISODIC MEMORY:\")\n",
    "print(\"-\" * 60)\n",
    "result1b = await handle_customer_query(\n",
    "    customer_id=\"CUST-45678\",\n",
    "    query=query1b\n",
    ")\n",
    "print(f\"Customer: {query1b}\")\n",
    "print(f\"\\nAgent: {result1b['response']}\")"
   ]
  }
 ],
 "metadata": {
  "kernelspec": {
   "display_name": ".venv",
   "language": "python",
   "name": "python3"
  },
  "language_info": {
   "codemirror_mode": {
    "name": "ipython",
    "version": 3
   },
   "file_extension": ".py",
   "mimetype": "text/x-python",
   "name": "python",
   "nbconvert_exporter": "python",
   "pygments_lexer": "ipython3",
   "version": "3.13.2"
  }
 },
 "nbformat": 4,
 "nbformat_minor": 5
}
